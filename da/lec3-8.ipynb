{
 "cells": [
  {
   "cell_type": "markdown",
   "id": "97be900b",
   "metadata": {},
   "source": [
    "`시계열 예측`"
   ]
  }
 ],
 "metadata": {
  "language_info": {
   "name": "python"
  }
 },
 "nbformat": 4,
 "nbformat_minor": 5
}
