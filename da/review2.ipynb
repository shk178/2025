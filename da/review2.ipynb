{
 "cells": [
  {
   "cell_type": "markdown",
   "id": "517bcebc",
   "metadata": {},
   "source": [
    "`데이터 분석을 통한 가치 발굴에서 필요한 주요 요소 3가지`"
   ]
  },
  {
   "cell_type": "markdown",
   "id": "6fdf06ee",
   "metadata": {},
   "source": [
    "`분석 기획은 단기적으로 (1)을 도출해 프로젝트화 한 후 관리를 수행해 분석 결과를 도출하는 것이고, 중장기적으로는 (2)를 수행해 지속적인 (1)수행을 지원할 수 있는 거버넌스 체계를 수립하는 것이다`"
   ]
  },
  {
   "cell_type": "markdown",
   "id": "727232f9",
   "metadata": {},
   "source": [
    "`분석 주제 유형 중 해결해야 할 문제를 알고 있으나 분석의 방법을 모르는 유형은 어떻게 수행해야 하는가`"
   ]
  },
  {
   "cell_type": "markdown",
   "id": "ea102a53",
   "metadata": {},
   "source": [
    "`분석 주제 유형 중 해결해야 할 문제를 모르나 분석의 방법이 알려진 유형은 어떻게 수행해야 하는가`"
   ]
  },
  {
   "cell_type": "markdown",
   "id": "39583efe",
   "metadata": {},
   "source": [
    "`목표 시점별 분석 기획 방안 도표의 괄호를 채우시오`\n",
    "`(1) 당면한 분석 주제해결-과제단위, speedtest가 1차목표, quick-win이 과제유형, problemsolving이 접근방식`\n",
    "`(2) 지속적 분석문화내재화-마스터플랜단위, accuracydeploy가 1차목표, longtermview가 과제유형, problemdefinition이 접근방식`"
   ]
  },
  {
   "cell_type": "markdown",
   "id": "a2589bcf",
   "metadata": {},
   "source": [
    "`기업의 합리적 의사결정 장애요소 중 문제의 표현 방식에 따라 동일한 사건이나 상황임에도 개인의 판단이나 선택이 달라질 수 있는 현상은`"
   ]
  },
  {
   "cell_type": "markdown",
   "id": "00f4de2b",
   "metadata": {},
   "source": [
    "`데이터 분석 방법론의 모델 중 하향식topdown 방식은`"
   ]
  },
  {
   "cell_type": "markdown",
   "id": "a40ba5a0",
   "metadata": {},
   "source": [
    "`데이터 분석 방법론의 모델 중 상향식bottomup 방식은`"
   ]
  },
  {
   "cell_type": "markdown",
   "id": "9029e85d",
   "metadata": {},
   "source": [
    "`단계를 순차적으로 진행하는 방법으로, 이전 단계가 완료되어야 다음 단계로 진행할 수 있으며, 문제나 개선 사항이 발견되면 전 단계로 돌아가는 피드백feedback 과정이 수행되기도 하고, 하향식topdown으로 진행되는 데이터 분석 방법론은`"
   ]
  },
  {
   "cell_type": "markdown",
   "id": "624670b5",
   "metadata": {},
   "source": [
    "`반복을 통해 집중적으로 개발하는 방법으로, 상향식bottomup 방법이며, 처음 시도하는 프로젝트에 적용이 용이하고 반복에 대한 관리 체계를 효과적으로 갖추지 못한 경우 복잡도가 상승해 프로젝트 진행이 어려운 데이터 분석 방법론은`"
   ]
  },
  {
   "cell_type": "markdown",
   "id": "a472a7d8",
   "metadata": {},
   "source": [
    "`폭포수 모델의 단점을 보완한 방법으로, 사용자가 요구사항이나 데이터를 정확히 규정하기 어렵고 데이터 소스도 명확히 파악하기 어려운 상황에서 일단 분석을 시도해보고 그 결과를 확인해가며 반복적 개선해나가는 방법은`"
   ]
  },
  {
   "cell_type": "markdown",
   "id": "388aaf9b",
   "metadata": {},
   "source": [
    "`KDD 분석 방법론의 분석 절차 중 데이터셋에 포함돼있는 잡음noise, 이상값outlier, 결측치missingvalue를 식별하고 필요시 제거하거나 의미있는 데이터로 처리하는 데이터셋 정제작업 시행하는 단계는`"
   ]
  },
  {
   "cell_type": "markdown",
   "id": "ad73bcb3",
   "metadata": {},
   "source": [
    "`KDD 분석 방법론의 분석 절차 중 분석 목적에 맞는 변수를 선택하거나 데이터 차원을 축소하여 데이터 마이닝을 효율적으로 적용할 수 있도록 데이터셋을 변경하는 프로세스를 수행하는 단계는`"
   ]
  },
  {
   "cell_type": "markdown",
   "id": "1646266b",
   "metadata": {},
   "source": [
    "`CRISP-DM 6단계 프로세스 중 단계 간 피드백(Feedback)을 통해 단계별 완성도를 높이는 프로세스 2쌍을 쓰시오`"
   ]
  },
  {
   "cell_type": "markdown",
   "id": "e376482c",
   "metadata": {},
   "source": [
    "`CRISP-DM 방법론에서 데이터 준비 단계에서 실행하는 것은`"
   ]
  },
  {
   "cell_type": "markdown",
   "id": "e2be4bb3",
   "metadata": {},
   "source": [
    "`빅데이터 분석 방법론 프로세스 5단계를 차례대로 쓰시오`"
   ]
  },
  {
   "cell_type": "markdown",
   "id": "53cbc916",
   "metadata": {},
   "source": [
    "`다양한 데이터 시각화를 활용해 데이터의 가독성을 명확히 하고 데이터의 형상 및 분포 등 데이터 특성을 파악하는 테스크를 뭐라고 하는가`"
   ]
  },
  {
   "cell_type": "markdown",
   "id": "3ad0dcdf",
   "metadata": {},
   "source": [
    "`빅데이터 분석 모델 적용 및 운영시 작성되는 모델에 대한 알고리즘 설명서는 시스템 구현 단계에서 중요한 입력자료로 활용되므로 상세한 작성이 필요하다. 어떤 수준의 상세한 작성이 필요한가`"
   ]
  },
  {
   "cell_type": "markdown",
   "id": "fecd8764",
   "metadata": {},
   "source": [
    "`분석과제 도출방식 2가지를 쓰시오`"
   ]
  },
  {
   "cell_type": "markdown",
   "id": "0fc5404e",
   "metadata": {},
   "source": [
    "`비즈니스 모델 캔버스를 활용한 분석기회 발굴 시에 탐색하는 주요영역 5가지는`"
   ]
  },
  {
   "cell_type": "markdown",
   "id": "c6d32d5e",
   "metadata": {},
   "source": [
    "`분석과제를 도출하기 위한 방식에는 문제가 주어져 해법을 찾기 위해 절차적 수행하는 (1) 방식과 문제 정의가 어려워 데이터 기반 탐색하고 이를 지속적 개선해나가는 (2)방식이 있다`"
   ]
  },
  {
   "cell_type": "markdown",
   "id": "fb0956ef",
   "metadata": {},
   "source": [
    "`시장의 니즈 탐색 관점에서는 현재 수행하고 있는 사업에서의 직접 고객뿐 아니라 고객과 접촉하는 역할 수행하는 채널channel 및 고객의 구매와 의사결정에 영향으 미치는 영향자들influencer에 대한 폭넓은 간점을 바탕으로 분석 기회를 탐색한다: 영업사원/직판대리점/홈페이지 등 자체 운영 채널뿐 아니라 최종 고객에게 상품서비스를 전달함에 있어 가능한 경로를 파악해 해당 경로에 존재하는 채널별로 분석기회를 확대해 탐색 <- 어디에 속하는 설명인가`"
   ]
  },
  {
   "cell_type": "markdown",
   "id": "27bc8bec",
   "metadata": {},
   "source": [
    "`풀어야 할 문제에 대한 상세설명 및 해당 문제를 해결했을 때 발생하는 효과를 명시함으로써 향후 데이터 분석 문제로의 전환 및 적합성 평가에 활용하도록 하는 것을 뭐라고 하는가`"
   ]
  },
  {
   "cell_type": "markdown",
   "id": "200acfc5",
   "metadata": {},
   "source": [
    "`디자인적 사고 접근법을 통해 why->what 관점으로 존재하는 데이터 그 자체를 객관적으로 관찰해 문제를 해결하려는 접근법은 무엇인가`"
   ]
  },
  {
   "cell_type": "markdown",
   "id": "73a4b093",
   "metadata": {},
   "source": [
    "`디자인 사고 접근법은 상향식 접근 방식의 (1) 단계와 하향식 접근 방식의 (2)단계를 반복 수행한다`"
   ]
  },
  {
   "cell_type": "markdown",
   "id": "9a564a85",
   "metadata": {},
   "source": [
    "`디자인 사고 접근법의 d.school에서는 첫 단계를 특히 강조한다. 이 단계는 무엇인가`"
   ]
  },
  {
   "cell_type": "markdown",
   "id": "1e1c7944",
   "metadata": {},
   "source": [
    "`데이터 분석의 목적이 명확히 정의된 형태의 특정 필드의 값을 구하는 일로, 분류/예측/추출/최적화를 통해 분석 실시하고 도출하는 분석 방법은`"
   ]
  },
  {
   "cell_type": "markdown",
   "id": "b3ae3ddc",
   "metadata": {},
   "source": [
    "`데이터 자체의 결합,연관성,유사성 등을 중심으로 데이터의 상태를 표현한 것으로 새로운 유형의 인사이트를 도출하기에 유용한 분석 방식이자 장바구니 분석/군집분석/기술통계 및 프로파일링 등의 예제가 있는 분석방법은`"
   ]
  },
  {
   "cell_type": "markdown",
   "id": "f0da03f2",
   "metadata": {},
   "source": [
    "`사용자가 요구사항이나 데이터를 정확히 규정하기 어렵고 데이터 소스도 명확히 파악하기 어려운 상황에서, 일단 분석시도해 보고 결과 확인해가며 반복적 개선해 나가는방법으로, 비록완전치못하다해도 신속히 해결책이나 모형 제시함으로써 이를 바탕으로 문제를 좀더 명확히 인식하고 필요한 데이터를 식별해 구체화할수있게 하는 상향식 접근방법은`"
   ]
  },
  {
   "cell_type": "markdown",
   "id": "bdf8d170",
   "metadata": {},
   "source": [
    "`프로토타이핑 접근법의 프로세스: (1)->디자인에대한 실험->테스트->통찰도출 및 가설확인`"
   ]
  },
  {
   "cell_type": "markdown",
   "id": "56e2ea61",
   "metadata": {},
   "source": [
    "`분석 과제의 관리영역은 기존 프로젝트의 영역별 관리(범위/일정/품질/리스크/의사소통 등)에 추가적으로 DATASIZE/DATACOMPLEXITY/(1)/ANALYTICCOMPLEXITY/ACCURACY&PRECISION이 필요하다`"
   ]
  },
  {
   "cell_type": "markdown",
   "id": "b3a113a3",
   "metadata": {},
   "source": [
    "`분석 프로젝트 수행시 \"데이터전문가,비즈니스전문가, 분석전문가,시스템전문가 등 다양영역 사람들이 프로젝트에 참여한다. 프로젝트 스폰서및 향후분석결과를 활용할 user 등 다양한 사람들의 니즈를 고려해야 한다.\"라는 관리포인트 고려해야 하는 영역은`"
   ]
  },
  {
   "cell_type": "markdown",
   "id": "9937e1ab",
   "metadata": {},
   "source": [
    "`기업 및 공공기관에서 시스템 중장기 로드맵을 정의하는 절차로, 정보기술 또는 정보시스템을 전략적으로 활용하기 위해 조직 내외부 환경울 분석해 기회나 문제점을 도출하고 사용자 요구사항을 분석한 뒤, 시스템 구축 우선순위를 결정하는 등 중장기 마스터플랜을 수립하는 절차는`"
   ]
  },
  {
   "cell_type": "markdown",
   "id": "88397c33",
   "metadata": {},
   "source": [
    "`분석 우선순위평가기준 ROI요소반영한.. 2가지는`"
   ]
  },
  {
   "cell_type": "markdown",
   "id": "8b78d63c",
   "metadata": {},
   "source": [
    "`분석 과제 우선순위 평가에 활용하기 위한 ROI 관점에서 빅데이터 특징 중 투자비용측면의 요소 3가지는`"
   ]
  },
  {
   "cell_type": "markdown",
   "id": "0c46792a",
   "metadata": {},
   "source": [
    "`마스터 플랜 분석과제 우선순위 결정을 하기 위한 포트폴리오 사분면QUADRANT 분석 활용에서 가장 우선적인 분석 과제 적용이 필요한 영역은 몇사분면인가`"
   ]
  },
  {
   "cell_type": "markdown",
   "id": "814d936c",
   "metadata": {},
   "source": [
    "`분석 거버넌스 체계 구성요소 5가지는 무엇인가`"
   ]
  },
  {
   "cell_type": "markdown",
   "id": "d8e04171",
   "metadata": {},
   "source": [
    "`소프트웨어공학에서 시스템 개발 업무 능력과 조직의 성숙도를 파악하기 위해 사용하는 모델은`"
   ]
  },
  {
   "cell_type": "markdown",
   "id": "860ffb12",
   "metadata": {},
   "source": [
    "`분석수준 진단프레임워크를 구성하는 성숙도진단 3개부문은`"
   ]
  },
  {
   "cell_type": "markdown",
   "id": "b2d2c39b",
   "metadata": {},
   "source": [
    "`분석수준진단 프레임워크를 구성하는 성숙도수준 4단계는`"
   ]
  },
  {
   "cell_type": "markdown",
   "id": "09a0a4e1",
   "metadata": {},
   "source": [
    "`분석수준진단 프레임워크에서 조직역량 부문에 전문담당부서수행/분석기법도입/관리자가분석수행을 하는 성숙도 단계는`"
   ]
  },
  {
   "cell_type": "markdown",
   "id": "091d38b0",
   "metadata": {},
   "source": [
    "`분석수준진단결과 사분면 분석에서 낮은준비도, 높은성숙도 가지며 준비도는 낮은편이나 조직/인력/분석업무 등을 기업내부에서 제한적으로 사용하고 있는 기업들은 어느 유형에 속하는가`"
   ]
  },
  {
   "cell_type": "markdown",
   "id": "0ac5fe12",
   "metadata": {},
   "source": [
    "`데이터 거버넌스 구성요소 3가지`"
   ]
  },
  {
   "cell_type": "markdown",
   "id": "096917f0",
   "metadata": {},
   "source": [
    "`데이터 거버넌스 체계 4가지`"
   ]
  },
  {
   "cell_type": "markdown",
   "id": "6afe31a6",
   "metadata": {},
   "source": [
    "`데이터분석을 위한 조직구조 형태 중 분석조직인력을 현업부서로 직접 배치해 분석업무수행 및 전사차원의 수행분석결과에 따른 신속한 ACTION이 가능하며 베스트 프랙티스 공유가 가능한 조직구조는`"
   ]
  },
  {
   "cell_type": "markdown",
   "id": "6c456cd0",
   "metadata": {},
   "source": [
    "`데이터 분석을 위한 조직구조 형태중 전사분석업무를 분석조직에서 담당하고, 전략적 중요도에 따라 분석조직이 우선순위를 정해 진행하거나 현업업무부서와 이원화/이중화를 할 수 있는 가능성이 높은 조직구조는`"
   ]
  },
  {
   "cell_type": "markdown",
   "id": "b1c19549",
   "metadata": {},
   "source": [
    "`빅데이터 분석을 도입하기에 앞서 현재 기업의 분석 수준을 파악하는 것이 중요하다. 향후 분석 목표 및 방향성 수립 위해 분석준비도를 진단하는 6가지 평가영역 중 2가지만 쓰시오`"
   ]
  },
  {
   "cell_type": "markdown",
   "id": "daa6dc78",
   "metadata": {},
   "source": [
    "`빅데이터 분석 방법론 프로세스 중 프로젝트 위험계획 수립은 어느 단계에서 진행되나`"
   ]
  },
  {
   "cell_type": "markdown",
   "id": "f0d785b7",
   "metadata": {},
   "source": [
    "`데이터 거버넌스 체계`\n",
    "`데이터 관리 체계`"
   ]
  }
 ],
 "metadata": {
  "language_info": {
   "name": "python"
  }
 },
 "nbformat": 4,
 "nbformat_minor": 5
}
