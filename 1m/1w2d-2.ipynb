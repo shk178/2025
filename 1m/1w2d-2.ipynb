{
 "cells": [
  {
   "cell_type": "markdown",
   "id": "7099fe47",
   "metadata": {},
   "source": [
    "# 2일차 JavaScript 문법 복습 + 합의 알고리즘 개요\n",
    "JS 비동기/Promise 복습 / PoW vs PoS 비교.\n",
    "## 1. JavaScript: 비동기와 Promise\n",
    "- 기본 비동기 처리 이해\n",
    "- Promise 개념\n",
    "- async/await로 다루기\n",
    "## 2. 합의 알고리즘 이해\n",
    "- Proof of Work (PoW)\n",
    "- Proof of Stake (PoS)\n",
    "- 간단한 비교"
   ]
  }
 ],
 "metadata": {
  "language_info": {
   "name": "python"
  }
 },
 "nbformat": 4,
 "nbformat_minor": 5
}
