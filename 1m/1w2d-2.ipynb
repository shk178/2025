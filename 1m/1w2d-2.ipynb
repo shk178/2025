{
 "cells": [
  {
   "cell_type": "markdown",
   "id": "7099fe47",
   "metadata": {},
   "source": [
    "# 2일차 JavaScript 문법 복습 + 합의 알고리즘 개요\n",
    "JS 비동기/Promise 복습 / PoW vs PoS 비교.\n",
    "## 1. JavaScript: 비동기와 Promise\n",
    "- 기본 비동기 처리 이해\n",
    "- Promise 개념\n",
    "- async/await로 다루기\n",
    "## 2. 합의 알고리즘 이해\n",
    "- Proof of Work (PoW)\n",
    "- Proof of Stake (PoS)\n",
    "- 간단한 비교"
   ]
  },
  {
   "cell_type": "markdown",
   "id": "5636b5bd",
   "metadata": {},
   "source": [
    "`합의 알고리즘이란 무엇인가?`\n",
    "- 블록체인 네트워크의 수많은 노드(컴퓨터)가 하나의 동일한 진실에 동의하도록 만드는 규칙과 절차다.\n",
    "- `왜 필요한가?`\n",
    "    - 탈중앙화(Decentralization) 시스템에서는 중앙 관리자(은행, 서버)가 없다.\n",
    "    - 누군가 악의적으로 조작하거나, 실수하거나, 지연될 위험이 있다.\n",
    "    - 합의 알고리즘은 모든 노드가 \"이 거래가 진짜야.\"라고 동시에 인정하게 만든다.\n",
    "- `블록체인에서 \"진실\"은 자연스럽게 만들어지지 않는다.`\n",
    "    - 반드시 고통과 헌신, 또는 희생 위에 쌓인다.\n",
    "    - 블록체인을 구축하거나 스마트컨트랙트를 짤 때,\n",
    "    - \"이 진실을 지키기 위해 나는 어떤 비용을 지불하는가?\"를 물어야 한다."
   ]
  },
  {
   "cell_type": "markdown",
   "id": "db8740d4",
   "metadata": {},
   "source": [
    "### 2-(1) Proof of Work (PoW) - \"작업증명\"\n",
    "- 문제를 풀어야 블록을 생성할 수 있다. (ex: 비트코인)\n",
    "- 특징: 에너지 소모 큼, 보안 강함.\n",
    "- 비유: \"누가 먼저 바위산을 깎아 열쇠를 찾느냐\", \"열쇠를 얻기 위해 바위를 맨손으로 깨부수는 경쟁\"\n",
    "- 핵심 구조\n",
    "    - 수학 퍼즐을 먼저 푼 노드가 새로운 블록을 추가할 수 있다.\n",
    "    - 퍼즐은 매우 어렵고 풀려면 많은 컴퓨팅 파워(에너지)가 필요하다.\n",
    "    - 퍼즐을 풀면 \"나는 진짜 노력했다\"는 것을 증명할 수 있다.\n",
    "- 작동 방식\n",
    "    - 퍼즐: 블록의 해시값을 특정 조건(예: 앞자리 0이 여러 개)으로 만드는 것.\n",
    "    - 결과: 많은 시간, 에너지 소비 → 네트워크 보안이 강해진다.\n",
    "- 장점\n",
    "    - 보안성 매우 높음.\n",
    "    - 외부 공격자가 시스템을 장악하려면 엄청난 전기, 장비가 필요함.\n",
    "- 단점\n",
    "    - 에너지 낭비 심각. (비트코인 하나 채굴에 소도시 전력 소모)\n",
    "    - 속도가 느림. (비트코인 약 10분/1블록)"
   ]
  },
  {
   "cell_type": "markdown",
   "id": "149c2743",
   "metadata": {},
   "source": [
    "### 2-(2) Proof of Stake (PoS) - \"지분증명\"\n",
    "- 토큰을 걸고, 랜덤으로 블록 생산자를 선정한다. (ex: 이더리움 2.0)\n",
    "- 특징: 에너지 효율 높음, 자산을 많이 가진 자가 유리.\n",
    "- 비유: \"토큰을 맡기고 추첨을 기다리는 것\", \"토큰을 많이 맡긴 사람들 중에서 무작위로 열쇠를 배포받는 로또\"\n",
    "- 핵심 구조\n",
    "    - 네트워크 참가자는 자신이 가진 토큰을 일정량 스테이킹(예치) 한다.\n",
    "    - 무작위 + 지분량 비례로 다음 블록 생성자를 선정한다.\n",
    "    - 선출된 노드는 블록을 추가하고 보상을 받는다.\n",
    "- 작동 방식\n",
    "    - 블록 생성자는 더 많은 지분을 가진 사람이 선택될 확률이 높다.\n",
    "    - 부정행위를 하면 스테이킹한 토큰이 몰수될 수 있다. (\"Slashing\")\n",
    "- 장점\n",
    "    - 에너지 소비가 거의 없음.\n",
    "    - 블록 생성 속도가 빠름.\n",
    "    - 환경 친화적.\n",
    "- 단점\n",
    "    - \"부자는 더 부자가 된다\"는 문제 가능성.\n",
    "    - 초기 분산이 약하면 소수의 독점 위험."
   ]
  },
  {
   "cell_type": "markdown",
   "id": "e5ab23f4",
   "metadata": {},
   "source": [
    "`이더리움 2.0의 참여자 역할`\n",
    "- `Staker(예치자)`\n",
    "    - 일정량 이상의 ETH(현재 기준 32 ETH)를 예치.\n",
    "    - validator 등록을 위한 첫 단계.\n",
    "    - 직접 validator가 되거나/풀에 위임할 수도 있음.\n",
    "- `Validator(검증자)`\n",
    "    - Staker 중에서 정식 등록 절차를 마친 자.\n",
    "    - 네트워크 보안과 합의에 적극적으로 참여.\n",
    "    - 기본적인 역할:\n",
    "        - Proposer: 새 블록 제안\n",
    "        - Attestor: 블록이 유효한지 attestation 제공\n",
    "        - Sync Committee Member: 라이트 클라이언트 지원\n",
    "- `Proposer(제안자)`\n",
    "    - 각 slot마다 1명씩 무작위로 선택.\n",
    "    - 블록을 구성하고 제안하는 자.\n",
    "    - 제안한 블록이 validator들의 attestation을 통해 정당화됨.\n",
    "- `Attestor(증명자)`\n",
    "    - proposer가 제안한 블록에 대해 attestation(증명 서명)을 제출.\n",
    "    - 동일한 슬롯 내 다른 validator들로 구성.\n",
    "    - 블록의 정당성, view of head chain, target checkpoint 등을 증명.\n",
    "- `Sync Committee(동기화 위원회)`\n",
    "    - 32명으로 구성, 주기적으로 무작위로 선정됨.\n",
    "    - 라이트 클라이언트를 위한 경량 증명 제공.\n",
    "    - 블록의 head 정보를 라이트 클라이언트에 전달함으로써 빠른 동기화 지원.\n",
    "- `Builder(블록 빌더)` (Proposer-Builder Separation 구조에서)\n",
    "    - proposer가 아니라 실제 블록 내용을 구성하는 역할.\n",
    "    - 거래 순서, MEV 전략 등을 활용하여 최적 블록 구성.\n",
    "    - proposer는 빌더가 만든 블록을 수락하거나 거절할 수 있음.\n",
    "- `Relayer(중계자)`\n",
    "    - proposer와 builder 사이에서 정보를 중계.\n",
    "    - MEV-Boost와 함께 작동.\n",
    "    - 블록 제안 과정에서 탈중앙성과 검열저항성을 확보하기 위한 장치.\n",
    "- `보조적/간접적 참여자`\n",
    "    - `Light Clients`: 전체 체인을 저장하지 않고도 최신 블록 상태를 확인하는 클라이언트.\n",
    "    - `Watchdogs/Observers`: 체인을 감시하며 이중서명 등의 이상 행위를 포착.\n",
    "    - `Slasher`: 이중 서명, 사기 행위를 탐지하면 페널티를 부과하는 행위 주체.\n",
    "        - 일반적으로 프로토콜에 내장된 기능이 이를 자동 수행."
   ]
  },
  {
   "cell_type": "markdown",
   "id": "292e9041",
   "metadata": {},
   "source": [
    "### 2-(3) 간단한 비교\n",
    "- PoW는 연산 경쟁 방식, PoS는 토큰 스테이킹 방식\n",
    "- PoW는 속도 느림, PoS는 속도 빠름\n",
    "- PoW는 보안 매우 높음, PoS는 높음\n",
    "- PoW는 자원 소모 매우 큼, PoS는 자원 소모 적음\n",
    "- PoW는 대표 사례가 비트코인, PoS는 대표 사례가 이더리움 2.0\n",
    "- \"진실을 증명하는 방식\": 계산능력(노동) / 자산(지분)\n",
    "- \"에너지 소모\": 매우 많음 / 거의 없음\n",
    "- \"보안성\": 매우 강력 / 강력하지만 초기 취약 가능\n",
    "- \"진입 장벽\": 장비, 전기 비용 큼 / 토큰 보유 필요\n",
    "- \"대표 사용처\": 비트코인 / 이더리움 2.0, Solana 등\n",
    "- \"PoW는 시간과 에너지의 증명이다. PoS는 신뢰와 자산의 증명이다.\""
   ]
  },
  {
   "cell_type": "markdown",
   "id": "5a9af905",
   "metadata": {},
   "source": [
    "### Delegated Proof of Stake (DPoS)\n",
    "- \"민주주의를 흉내 내지만, 선택된 소수에게 힘을 모은다.\"\n",
    "- 개념\n",
    "    - 사용자들이 직접 블록을 생성하지 않는다.\n",
    "    - 대신 대표자(delegate)를 선출하여 블록을 생성하게 한다.\n",
    "    - 투표는 누구나 참여할 수 있지만 블록 생성은 선출된 소수만 담당.\n",
    "- 작동 방식\n",
    "    - 모두가 토큰을 스테이킹한다.\n",
    "    - 스테이킹한 양에 따라 대표자 후보에게 투표한다.\n",
    "    - 가장 많은 표를 얻은 상위 몇 명(예: 21명)이 검증자(Validator)가 된다.\n",
    "    - 이들이 돌아가면서 블록을 생성한다.\n",
    "- 장점\n",
    "    - 매우 빠른 트랜잭션 처리 속도.\n",
    "    - 에너지 효율성 높음.\n",
    "    - 확정성(Finality)이 빠름.\n",
    "- 단점\n",
    "    - 소수 엘리트에 의한 독점 위험.\n",
    "    - 투표가 부정하거나 편향될 수 있음.\n",
    "- 사용 사례\n",
    "    - EOS\n",
    "    - TRON"
   ]
  },
  {
   "cell_type": "markdown",
   "id": "6e22ea3f",
   "metadata": {},
   "source": [
    "### Byzantine Fault Tolerance (BFT)\n",
    "- \"누군가 거짓말을 해도, 전체 시스템은 무너지지 않는다.\"\n",
    "- 개념\n",
    "    - 일부 노드가 거짓말을 하거나 비정상적으로 행동해도 전체 네트워크가 올바른 합의를 이룬다.\n",
    "    - \"시스템 안에 배신자가 있어도 진실을 유지할 수 있는 능력\"\n",
    "- 작동 방식 (이론적으로)\n",
    "    - 각 노드는 서로에게 메시지를 보내 자신의 상태를 알린다.\n",
    "    - 다수의 신뢰할 수 있는 노드가 같은 메시지를 보내면 그 메시지를 진실로 간주한다.\n",
    "    - n개의 노드 중 최대 (n-1)/3개까지 배신자를 견딜 수 있다.\n",
    "- 장점\n",
    "    - 강력한 보안성.\n",
    "    - 빠른 합의 가능.\n",
    "- 단점\n",
    "    - 메시지 통신량이 매우 많아서 네트워크 부하 심함.\n",
    "    - 대규모 확장성에 약함."
   ]
  },
  {
   "cell_type": "markdown",
   "id": "3563f9fd",
   "metadata": {},
   "source": [
    "\n",
    "### Practical Byzantine Fault Tolerance (PBFT)\n",
    "- \"이론을 넘어, 현실에 발을 디딘 BFT.\"\n",
    "- 개념\n",
    "    - BFT를 \"현실적으로\" 구현한 프로토콜.\n",
    "    - 블록 생성 과정에서 여러 라운드를 통해 메시지를 교환하고 합의를 얻는다.\n",
    "- 작동 방식\n",
    "    - 요청(Request)이 오면 모든 노드에 전달된다.\n",
    "    - 노드들은 서로에게 메시지를 보내 검증한다.\n",
    "    - 다수의 일치가 있으면 블록을 최종 확정한다.\n",
    "- 특징\n",
    "    - 3단계: Pre-prepare → Prepare → Commit\n",
    "    - 모든 Honest 노드가 같은 순서대로 거래를 처리하게 된다.\n",
    "- 장점\n",
    "    - 매우 빠른 합의. (초당 수천 거래 가능)\n",
    "    - 작은 규모 네트워크에 적합.\n",
    "- 단점\n",
    "    - 참여 노드 수가 많아질수록 통신 부담이 급증한다.\n",
    "- 사용 사례\n",
    "    - Hyperledger Fabric (IBM)\n",
    "    - Tendermint (Cosmos SDK)"
   ]
  },
  {
   "cell_type": "markdown",
   "id": "26a59b51",
   "metadata": {},
   "source": [
    "### 다른 주요 합의 알고리즘 비교\n",
    "- \"합의 알고리즘\": 키워드 / 장점 / 단점 / 사용 예시\n",
    "    - \"DPoS\": 대표자 선출 / 빠른 처리, 에너지 효율 / 독점화 가능성 / EOS, TRON\n",
    "    - \"BFT\": 배신자 허용 / 강력한 보안성 / 통신량 폭발 / 이론적 기초\n",
    "    - \"PBFT\": 현실적 BFT / 초고속 합의 / 확장성 문제 / Hyperledger Fabric, Cosmos\n",
    "- \"진실을 지키는 방법은 하나가 아니다. 때로는 힘으로/신뢰로/절차로 이루어진다.\"\n",
    "- \"합의란 힘을 가진 자들이 이끄는 것도/단순히 다수결도 아니다. 진실을 얼마나 효율적으로, 믿을 수 있게 만드는가에 달렸다.\""
   ]
  },
  {
   "cell_type": "markdown",
   "id": "a7412132",
   "metadata": {},
   "source": [
    "`PoW 간단한 구현 실습`\n",
    "- 목표: 일정 조건을 만족하는 \"해시\"를 찾을 때까지 무작정 반복하는 구조를 만든다.\n",
    "    - difficulty는 \"앞에 몇 개의 0이 있어야 하는가\"를 결정한다.\n",
    "    - 무작정 숫자를 올리면서, 조건에 맞는 해시를 찾는다.\n",
    "    - 아주 단순화된 비트코인 채굴이다."
   ]
  },
  {
   "cell_type": "code",
   "execution_count": 1,
   "id": "3ba100d7",
   "metadata": {},
   "outputs": [
    {
     "name": "stdout",
     "output_type": "stream",
     "text": [
      "블록이 채굴됨! Nonce: 88484, Hash: 0000a456e7b5a5eb059e721fb431436883143101275c4077f83fe70298f5623d\n"
     ]
    },
    {
     "data": {
      "text/plain": [
       "undefined"
      ]
     },
     "execution_count": 1,
     "metadata": {},
     "output_type": "execute_result"
    }
   ],
   "source": [
    "const crypto = require('crypto');\n",
    "function mineBlock(difficulty) {\n",
    "  let nonce = 0;\n",
    "  let hash;\n",
    "  const target = '0'.repeat(difficulty);\n",
    "  do {\n",
    "    nonce++;\n",
    "    hash = crypto.createHash('sha256').update(nonce.toString()).digest('hex');\n",
    "  } while (!hash.startsWith(target));\n",
    "  console.log(`블록이 채굴됨! Nonce: ${nonce}, Hash: ${hash}`); }\n",
    "mineBlock(4);"
   ]
  },
  {
   "cell_type": "markdown",
   "id": "2aae5427",
   "metadata": {},
   "source": [
    "- `const crypto = require('crypto');`\n",
    "    - crypto는 암호화 기능 제공하는 node.js 기본 내장 모듈이다.\n",
    "    - sha-256 해시 함수를 호출하면 입력에 대해 256비트(64자리 16진수) 길이의 고정된 출력 만든다.\n",
    "    - sha-256은 단방향 함수여서 입력을 알더라도 결과 예측 불가, 결과로 입력 역추적 불가하다.\n",
    "- `function mineBlock(difficulty) {`\n",
    "    - pow 블록 채굴(생성) 과정 구현할 함수이다. difficulty는 난이도\n",
    "- `  let nonce = 0;`\n",
    "    - nonce는 number only used once를 의미한다.\n",
    "    - 채굴자는 nonce를 조작해 특정 조건을 만족하는 해시를 찾는다.\n",
    "    - nonce로 해시 값을 예측 불가하니까 무작위로 시도해야 된다.\n",
    "- `  let hash;`\n",
    "    - 해시 값을 저장할 변수다.\n",
    "- `  const target = '0'.repeat(difficulty);`\n",
    "    - difficulty가 곧 목표하는 연속된 '0'의 개수가 된다.\n",
    "    - difficulty가 높아질수록 목표하는 해시 값 찾기가 어려워진다.\n",
    "- `  do {`\n",
    "    - do 한 번 -> while false될 때까지 do 반복한다.\n",
    "- `    nonce++;`\n",
    "    - nonce 값을 하나씩 증가시킨다.\n",
    "- `    hash = crypto.createHash('sha256').update(nonce.toString()).digest('hex');`\n",
    "    - createHash('sha256'): 해시 계산할 객체를 준비한다. 계산하는 알고리즘이 sha-256이다.\n",
    "    - update(nonce.toString()): nonce를 문자열로 변환해서 객체에 넣는다. 입력 값이 된다.\n",
    "        - 실제로는 이전 블록 해시, 트랜잭션 데이터 등도 함께 해시 입력값에 포함한다.\n",
    "    - digest('hex'): 해시 계산한다. 반환하는 문자열의 encoding이 16진수다.\n",
    "- `  } while (!hash.startsWith(target));`\n",
    "    - 해시 계산 값이 목표하는 '000...'으로 시작하지 않으면 true, 시작하면 false다.\n",
    "    - 시작하면 목표하는 값 찾아서 채굴 성공한 것이다.\n",
    "- `  console.log(`블록이 채굴됨! Nonce: ${nonce}, Hash: ${hash}`); }`\n",
    "    - nonce 값이랑 해시 값 출력한다.\n",
    "- `mineBlock(4);`\n",
    "    - 난이도 4로 채굴 함수 호출한다."
   ]
  },
  {
   "cell_type": "markdown",
   "id": "0ac57686",
   "metadata": {},
   "source": [
    "`PoS 간단한 구현 실습`\n",
    "- 목표: 토큰을 많이 가진 사람이 선택될 확률이 높은 \"지분 기반 블록 생성\"을 시뮬레이션한다.\n",
    "    - \"가중치 랜덤 선택(Weighted Random Selection)\"을 구현한다.\n",
    "    - 랜덤하게 누가 다음 블록을 만들지 결정한다.\n",
    "    - stake가 많은 사람일수록 뽑힐 확률이 높다."
   ]
  },
  {
   "cell_type": "code",
   "execution_count": 2,
   "id": "41e7b461",
   "metadata": {},
   "outputs": [
    {
     "name": "stdout",
     "output_type": "stream",
     "text": [
      "선택된 제안자: Alice\n"
     ]
    },
    {
     "data": {
      "text/plain": [
       "undefined"
      ]
     },
     "execution_count": 2,
     "metadata": {},
     "output_type": "execute_result"
    }
   ],
   "source": [
    "function pickProposer(stakers) {\n",
    "  const totalStake = stakers.reduce((sum, staker) => sum + staker.stake, 0);\n",
    "  const random = Math.random() * totalStake;\n",
    "  let cumulative = 0;\n",
    "  for (const staker of stakers) {\n",
    "    cumulative += staker.stake;\n",
    "    if (random < cumulative) {\n",
    "      return staker.name; }}}\n",
    "const stakers = [\n",
    "  { name: 'Alice', stake: 50 },\n",
    "  { name: 'Bob', stake: 30 },\n",
    "  { name: 'Charlie', stake: 20 }, ];\n",
    "console.log(`선택된 제안자: ${pickProposer(stakers)}`);"
   ]
  },
  {
   "cell_type": "markdown",
   "id": "79e691f7",
   "metadata": {},
   "source": [
    "- `function pickProposer(stakers) {`\n",
    "    - proposer 뽑는 과정 구현할 함수다.\n",
    "        - 실제로는 stakers가 아닌 validators 중에 뽑는다.\n",
    "    - stakers는 스테이킹에 참여한 사람들의 배열(리스트)이다.\n",
    "        - 자바스크립트에서는 배열이 순서가 있는 리스트다.\n",
    "    - 각자 이름과 지분(stake)을 가진다.\n",
    "- `  const totalStake = stakers.reduce((sum, staker) => sum + staker.stake, 0);`\n",
    "    - reduce(..., 0): reduce 메서드는 배열을 순회하면서 하나의 값으로 축소한다.\n",
    "    - (sum, staker) => sum + staker.stake: reduce 메서드에 전달될 콜백 함수이다.\n",
    "        - 어떤 방식으로 축소할지 콜백 함수가 정한다.\n",
    "        - sum은 누적된 값이고, staker는 현재 반복 중인 배열의 요소\n",
    "        - sum + staker.stake는 현재 sum 값에 staker 객체의 stake 값을 더한다.\n",
    "    - 0: 초기값으로 sum의 첫 번째 값이 0에서 시작한다.\n",
    "    - totalStake에 모든 참여자의 총 지분이 저장된다.\n",
    "- `  const random = Math.random() * totalStake;`\n",
    "    - 0 이상 totalStake 미만의, 임의의 부동소수(random float)를 생성해 저장한다.\n",
    "    - random 값이 proposer을 선택하는 특정한 기준점이 된다.\n",
    "        - 지분 비율이 높을수록 선택될 확률이 연속적으로 높아야 한다.\n",
    "        - 확률 분포에 단절이 있으면 유불리가 생기므로 정수가 아닌 실수로 정한다.\n",
    "- `  let cumulative = 0;`\n",
    "- `  for (const staker of stakers) {`\n",
    "- `    cumulative += staker.stake;`\n",
    "- `    if (random < cumulative) {`\n",
    "- `      return staker.name; }}}`\n",
    "- `const stakers = [`\n",
    "- `  { name: 'Alice', stake: 50 },`\n",
    "- `  { name: 'Bob', stake: 30 },`\n",
    "- `  { name: 'Charlie', stake: 20 }, ];`\n",
    "- `console.log(`선택된 제안자: ${pickProposer(stakers)}`);`"
   ]
  }
 ],
 "metadata": {
  "kernelspec": {
   "display_name": "JavaScript (Node.js)",
   "language": "javascript",
   "name": "javascript"
  },
  "language_info": {
   "file_extension": ".js",
   "mimetype": "application/javascript",
   "name": "javascript",
   "version": "18.20.8"
  }
 },
 "nbformat": 4,
 "nbformat_minor": 5
}
