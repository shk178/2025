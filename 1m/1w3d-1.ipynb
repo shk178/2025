{
 "cells": [
  {
   "cell_type": "markdown",
   "id": "de954e80",
   "metadata": {},
   "source": [
    "# 3일차 Solidity 첫 걸음 + 비트코인 구조 학습\n",
    "Solidity 변수, 함수 작성 / 트랜잭션, UTXO 이해.\n",
    "## 1. Solidity 기본 문법 첫 걸음\n",
    "- 환경 세팅\n",
    "- Solidity 기초 문법\n",
    "- 실습\n",
    "## 2. 비트코인 트랜잭션 구조와 UTXO 이해\n",
    "- 트랜잭션 기본 구조\n",
    "- 예제 트랜잭션\n",
    "- UTXO (Unspent Transaction Output)\n",
    "- 비트코인 트랜잭션 해체하기"
   ]
  },
  {
   "cell_type": "markdown",
   "id": "49d5947b",
   "metadata": {},
   "source": [
    "### 1-(1) 환경 세팅\n",
    "- Remix IDE 열기: [Remix IDE](https://remix.ethereum.org/)\n",
    "    - 로컬에 설치했다.\n",
    "- New File 생성: `HelloWorld.sol`"
   ]
  },
  {
   "cell_type": "markdown",
   "id": "02c578a9",
   "metadata": {},
   "source": [
    "### 1-(2) Solidity 기초 문법\n",
    "**✅ 학습 포인트:**\n",
    "- `pragma solidity ^0.8.0` → Solidity 버전 명시.\n",
    "- `public` → 외부에서 접근 가능.\n",
    "- `memory` → 함수 인자에 사용되는 데이터 위치 지정."
   ]
  },
  {
   "cell_type": "code",
   "execution_count": null,
   "id": "e9cb79df",
   "metadata": {
    "vscode": {
     "languageId": "plaintext"
    }
   },
   "outputs": [],
   "source": [
    "// SPDX-License-Identifier: MIT\n",
    "pragma solidity ^0.8.0;\n",
    "\n",
    "contract HelloWorld {\n",
    "    string public greeting = \"Hello, Blockchain World!\";\n",
    "\n",
    "    function setGreeting(string memory _newGreeting) public {\n",
    "        greeting = _newGreeting;\n",
    "    }\n",
    "\n",
    "    function getGreeting() public view returns (string memory) {\n",
    "        return greeting;\n",
    "    }\n",
    "}"
   ]
  },
  {
   "cell_type": "markdown",
   "id": "5b18ffaa",
   "metadata": {},
   "source": [
    "### 1-(3) 실습\n",
    "- \"Compile\" 탭에서 컴파일.\n",
    "- \"Deploy & Run Transactions\" 탭에서 배포.\n",
    "- `getGreeting()` 호출 → \"Hello, Blockchain World!\" 출력.\n",
    "- `setGreeting()` 호출 → 새로운 메시지 입력, 확인."
   ]
  }
 ],
 "metadata": {
  "language_info": {
   "name": "python"
  }
 },
 "nbformat": 4,
 "nbformat_minor": 5
}
