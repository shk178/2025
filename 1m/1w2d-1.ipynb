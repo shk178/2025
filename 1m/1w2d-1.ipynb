{
 "cells": [
  {
   "cell_type": "markdown",
   "id": "7099fe47",
   "metadata": {},
   "source": [
    "# 2일차 JavaScript 문법 복습 + 합의 알고리즘 개요\n",
    "JS 비동기/Promise 복습 / PoW vs PoS 비교.\n",
    "## 1. JavaScript: 비동기와 Promise\n",
    "- 기본 비동기 처리 이해\n",
    "- Promise 개념\n",
    "- async/await로 다루기\n",
    "## 2. 합의 알고리즘 이해\n",
    "- Proof of Work (PoW)\n",
    "- Proof of Stake (PoS)\n",
    "- 간단한 비교"
   ]
  },
  {
   "cell_type": "markdown",
   "id": "16fcc599",
   "metadata": {},
   "source": [
    "### JavaScript 데이터 타입 (기본형)\n",
    "- Number : 숫자 (정수, 부동소수)\n",
    "- String : 문자열\n",
    "- Boolean : 참/거짓\n",
    "- Undefined : 값이 아직 없음\n",
    "- Null : 의도적으로 '없음'\n",
    "- Object : 키-값 쌍\n",
    "- Array : 순서가 있는 리스트\n",
    "- Function : 실행 가능한 코드 조각\n",
    "- BigInt, Symbol 같은 특수 타입은 초반에는 몰라도 된다."
   ]
  },
  {
   "cell_type": "markdown",
   "id": "677360ff",
   "metadata": {},
   "source": [
    "### 클래스 (Class)\n",
    "- python 클래스와 거의 비슷한데 몇 가지 다르다.\n",
    "- constructor(): 생성자 함수\n",
    "- this: 인스턴스 자신을 가리킴 (python self와 비슷)\n",
    "- 클래스 메서드는 function 키워드 없이 작성한다.\n",
    "- \"자바스크립트의 클래스는 가면을 쓴 함수다.\""
   ]
  },
  {
   "cell_type": "code",
   "execution_count": 1,
   "id": "07e3e08a",
   "metadata": {},
   "outputs": [
    {
     "name": "stdout",
     "output_type": "stream",
     "text": [
      "안녕, 나는 sk\n"
     ]
    },
    {
     "data": {
      "text/plain": [
       "undefined"
      ]
     },
     "execution_count": 1,
     "metadata": {},
     "output_type": "execute_result"
    }
   ],
   "source": [
    "class Person {\n",
    "  constructor(name) {\n",
    "    this.name = name;\n",
    "  }\n",
    "\n",
    "  greetM() {\n",
    "    console.log(`안녕, 나는 ${this.name}`);\n",
    "  }\n",
    "}\n",
    "\n",
    "const p = new Person('sk');\n",
    "p.greetM();"
   ]
  },
  {
   "cell_type": "markdown",
   "id": "cbf2da94",
   "metadata": {},
   "source": [
    "`JavaScript 함수명과 클래스명 규칙`\n",
    "- `함수명`\n",
    "    - 소문자로 시작\n",
    "    - 여러 단어가 이어질 때 camelCase 사용 (두 번째 단어부터 대문자로 시작)\n",
    "    - 함수명은 동사+명사 형태가 좋다.\n",
    "    - 예시: getUserInfo, sendEmail, fetchData\n",
    "    - 안 쓰는 예: GetuserInfo, send_email\n",
    "- `클래스명`\n",
    "    - 대문자로 시작\n",
    "    - 여러 단어가 이어질 때도 PascalCase 사용 (모든 단어의 첫 글자가 대문자)\n",
    "    - 클래스명은 명사나 명사적 표현이 좋다.\n",
    "    - 예시: User, OrderManager, BlockchainNode\n",
    "    - 안 쓰는 예: userProfile, order_manager\n",
    "        - snake_case는 모두 소문자로, 단어 사이를 밑줄로 연결한다.\n",
    "            - python에서 함수명, 변수명 등에 주로 쓴다.\n",
    "            - javascript에서는 camelCase를 주로 쓴다.\n",
    "- `추가 정리`\n",
    "    - 함수명/메서드명, 변수명/속성명 → camelCase\n",
    "        - 메서드는 행동을 나타내므로 동사형 이름이 자연스럽다.\n",
    "    - 클래스명 → PascalCase\n",
    "    - 상수 값 → UPPER_SNAKE_CASE\n",
    "        - 숫자/문자열/불리언 등의 값이 변하지 않는 의미를 가지면 상수다."
   ]
  },
  {
   "cell_type": "markdown",
   "id": "a27cb04e",
   "metadata": {},
   "source": [
    "### 함수 (Function)\n",
    "- 기본 함수 선언 (function 함수명() {})\n",
    "    - function 키워드로 시작한다.\n",
    "    - 코드 최상단으로 자동 이동(hoisting) 된다: 선언 전에 호출해도 오류가 나지 않는다.\n",
    "        - 선언식 함수는 코드가 실행되기 전에 메모리에 올라간다.\n",
    "- 함수 표현식 (const 변수명 = function() {})\n",
    "    - 함수 자체를 변수에 저장한다.\n",
    "    - 호이스팅 되지 않는다: 선언 이후에만 사용할 수 있다.\n",
    "        - 표현식 함수는 실행될 때 메모리에 저장된다.\n",
    "- 화살표 함수 (const 변수명 = () => {})\n",
    "    - 짧게 쓸 수 있다.\n",
    "    - this 바인딩 방식이 다르다. (초급에서는 깊이 몰라도 된다.)\n",
    "    - 화살표 함수는 항상 \"변수에 담기는 함수\" 형태로 사용되기 때문에 표현식이 된다.\n",
    "        - 호이스팅 되지 않는다."
   ]
  },
  {
   "cell_type": "code",
   "execution_count": 2,
   "id": "1a2209df",
   "metadata": {},
   "outputs": [
    {
     "name": "stdout",
     "output_type": "stream",
     "text": [
      "안녕, 나는 sk\n"
     ]
    },
    {
     "data": {
      "text/plain": [
       "undefined"
      ]
     },
     "execution_count": 2,
     "metadata": {},
     "output_type": "execute_result"
    }
   ],
   "source": [
    "helloD('sk');  // 앞서 호출 가능\n",
    "\n",
    "// 함수 선언식\n",
    "function helloD(name) {\n",
    "  console.log(`안녕, 나는 ${name}`);\n",
    "}"
   ]
  },
  {
   "cell_type": "code",
   "execution_count": 3,
   "id": "abb4c852",
   "metadata": {},
   "outputs": [
    {
     "name": "stdout",
     "output_type": "stream",
     "text": [
      "안녕, 나는 sk\n"
     ]
    },
    {
     "data": {
      "text/plain": [
       "undefined"
      ]
     },
     "execution_count": 3,
     "metadata": {},
     "output_type": "execute_result"
    }
   ],
   "source": [
    "// 함수 표현식\n",
    "const helloE = function(name) {\n",
    "  console.log(`안녕, 나는 ${name}`);\n",
    "};\n",
    "\n",
    "helloE('sk');  // 선언 이후 호출"
   ]
  },
  {
   "cell_type": "code",
   "execution_count": 4,
   "id": "caccd331",
   "metadata": {},
   "outputs": [
    {
     "name": "stdout",
     "output_type": "stream",
     "text": [
      "안녕, 나는 sk\n"
     ]
    },
    {
     "data": {
      "text/plain": [
       "'안녕, 나는 sk'"
      ]
     },
     "execution_count": 4,
     "metadata": {},
     "output_type": "execute_result"
    }
   ],
   "source": [
    "// 화살표 함수\n",
    "const helloA = (name) => {\n",
    "  return `안녕, 나는 ${name}`;\n",
    "};\n",
    "\n",
    "// 화살표 함수 (더 축약): (인자 1개), {코드 1줄}, return 생략 가능하다.\n",
    "const helloAA = name => `안녕, 나는 ${name}`;\n",
    "\n",
    "console.log(helloA('sk'));\n",
    "helloAA('sk');"
   ]
  },
  {
   "cell_type": "markdown",
   "id": "08f9d54a",
   "metadata": {},
   "source": [
    "`함수 선언식과 함수 표현식은 왜 구분하는가?`\n",
    "- \"흐름의 유연성 때문이다.\"\n",
    "- 함수 선언식은 항상 코드 최상단에 존재하게 된다. (호이스팅)\n",
    "    - 명확한, 고정된 함수를 정의할 때 쓴다.\n",
    "- 함수 표현식은 필요할 때/조건에 따라 함수 자체를 변수처럼 다루기 위해 쓴다.\n",
    "    - 더 유연하고 동적인 코드가 가능하다."
   ]
  },
  {
   "cell_type": "markdown",
   "id": "d0ec1446",
   "metadata": {},
   "source": [
    "`함수를 변수에 저장하는 이유`\n",
    "- \"함수를 데이터처럼 다루기 위해서다.\"\n",
    "- 함수를 변수에 담으면\n",
    "    - 그 함수 자체를 전달하고/바꾸고/조건문 안에서 설정하고/다른 함수에게 넘길 수 있다.\n",
    "    - 함수도 값이라는 철학을 따르게 된다. (First-class citizen)"
   ]
  },
  {
   "cell_type": "code",
   "execution_count": 5,
   "id": "30924c18",
   "metadata": {},
   "outputs": [
    {
     "name": "stdout",
     "output_type": "stream",
     "text": [
      "안녕, 나는 sk\n"
     ]
    },
    {
     "data": {
      "text/plain": [
       "undefined"
      ]
     },
     "execution_count": 5,
     "metadata": {},
     "output_type": "execute_result"
    }
   ],
   "source": [
    "// 함수를 인자로 넘기기\n",
    "function greetA(name) {\n",
    "  return `안녕, 나는 ${name}`;\n",
    "}\n",
    "\n",
    "function processName(name, callback) {\n",
    "  return callback(name);\n",
    "}\n",
    "\n",
    "console.log(processName('sk', greetA));  // 함수 greetA를 값처럼 넘겼다."
   ]
  },
  {
   "cell_type": "code",
   "execution_count": 6,
   "id": "08240d06",
   "metadata": {},
   "outputs": [
    {
     "name": "stdout",
     "output_type": "stream",
     "text": [
      "좋은 저녁, sk\n"
     ]
    },
    {
     "data": {
      "text/plain": [
       "undefined"
      ]
     },
     "execution_count": 6,
     "metadata": {},
     "output_type": "execute_result"
    }
   ],
   "source": [
    "// 조건에 따라 함수 바꾸기\n",
    "let greetC;\n",
    "\n",
    "if (new Date().getHours() < 12) {\n",
    "  greetC = function(name) { return `좋은 아침, ${name}`; };\n",
    "} else {\n",
    "  greetC = function(name) { return `좋은 저녁, ${name}`; };\n",
    "}\n",
    "\n",
    "console.log(greetC('sk'));  // 아침/저녁에 따라 다른 함수를 설정했다."
   ]
  },
  {
   "cell_type": "markdown",
   "id": "337dbdbd",
   "metadata": {},
   "source": [
    "### 1-(1) 기본 비동기 처리 이해"
   ]
  }
 ],
 "metadata": {
  "kernelspec": {
   "display_name": "JavaScript (Node.js)",
   "language": "javascript",
   "name": "javascript"
  },
  "language_info": {
   "file_extension": ".js",
   "mimetype": "application/javascript",
   "name": "javascript",
   "version": "18.20.8"
  }
 },
 "nbformat": 4,
 "nbformat_minor": 5
}
