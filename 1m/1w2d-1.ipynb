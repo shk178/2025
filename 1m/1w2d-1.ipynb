{
 "cells": [
  {
   "cell_type": "markdown",
   "id": "7099fe47",
   "metadata": {},
   "source": [
    "# 2일차 JavaScript 문법 복습 + 합의 알고리즘 개요\n",
    "JS 비동기/Promise 복습 / PoW vs PoS 비교.\n",
    "## 1. JavaScript: 비동기와 Promise\n",
    "- 기본 비동기 처리 이해\n",
    "- Promise 개념\n",
    "- async/await로 다루기\n",
    "## 2. 합의 알고리즘 이해\n",
    "- Proof of Work (PoW)\n",
    "- Proof of Stake (PoS)\n",
    "- 간단한 비교"
   ]
  },
  {
   "cell_type": "markdown",
   "id": "16fcc599",
   "metadata": {},
   "source": [
    "### JavaScript 데이터 타입 (기본형)\n",
    "- Number : 숫자 (정수, 부동소수)\n",
    "- String : 문자열\n",
    "- Boolean : 참/거짓\n",
    "- Undefined : 값이 아직 없음\n",
    "- Null : 의도적으로 '없음'\n",
    "- Object : 키-값 쌍\n",
    "- Array : 순서가 있는 리스트\n",
    "- Function : 실행 가능한 코드 조각\n",
    "- BigInt, Symbol 같은 특수 타입은 초반에는 몰라도 된다."
   ]
  },
  {
   "cell_type": "markdown",
   "id": "677360ff",
   "metadata": {},
   "source": [
    "### 클래스 (Class)\n",
    "- python 클래스와 거의 비슷한데 몇 가지 다르다.\n",
    "- constructor(): 생성자 함수\n",
    "- this: 인스턴스 자신을 가리킴 (python self와 비슷)\n",
    "- 클래스 메서드는 function 키워드 없이 작성한다.\n",
    "- \"자바스크립트의 클래스는 가면을 쓴 함수다.\""
   ]
  },
  {
   "cell_type": "code",
   "execution_count": 1,
   "id": "07e3e08a",
   "metadata": {},
   "outputs": [
    {
     "name": "stdout",
     "output_type": "stream",
     "text": [
      "안녕, 나는 sk\n"
     ]
    },
    {
     "data": {
      "text/plain": [
       "undefined"
      ]
     },
     "execution_count": 1,
     "metadata": {},
     "output_type": "execute_result"
    }
   ],
   "source": [
    "class Person {\n",
    "  constructor(name) {\n",
    "    this.name = name;\n",
    "  }\n",
    "\n",
    "  greetM() {\n",
    "    console.log(`안녕, 나는 ${this.name}`);\n",
    "  }\n",
    "}\n",
    "\n",
    "const p = new Person('sk');\n",
    "p.greetM();"
   ]
  },
  {
   "cell_type": "markdown",
   "id": "cbf2da94",
   "metadata": {},
   "source": [
    "`JavaScript 함수명과 클래스명 규칙`\n",
    "- `함수명`\n",
    "    - 소문자로 시작\n",
    "    - 여러 단어가 이어질 때 camelCase 사용 (두 번째 단어부터 대문자로 시작)\n",
    "    - 함수명은 동사+명사 형태가 좋다.\n",
    "    - 예시: getUserInfo, sendEmail, fetchData\n",
    "    - 안 쓰는 예: GetuserInfo, send_email\n",
    "- `클래스명`\n",
    "    - 대문자로 시작\n",
    "    - 여러 단어가 이어질 때도 PascalCase 사용 (모든 단어의 첫 글자가 대문자)\n",
    "    - 클래스명은 명사나 명사적 표현이 좋다.\n",
    "    - 예시: User, OrderManager, BlockchainNode\n",
    "    - 안 쓰는 예: userProfile, order_manager\n",
    "        - snake_case는 모두 소문자로, 단어 사이를 밑줄로 연결한다.\n",
    "            - python에서 함수명, 변수명 등에 주로 쓴다.\n",
    "            - javascript에서는 camelCase를 주로 쓴다.\n",
    "- `추가 정리`\n",
    "    - 함수명/메서드명, 변수명/속성명 → camelCase\n",
    "        - 메서드는 행동을 나타내므로 동사형 이름이 자연스럽다.\n",
    "    - 클래스명 → PascalCase\n",
    "    - 상수 값 → UPPER_SNAKE_CASE\n",
    "        - 숫자/문자열/불리언 등의 값이 변하지 않는 의미를 가지면 상수다."
   ]
  },
  {
   "cell_type": "markdown",
   "id": "a27cb04e",
   "metadata": {},
   "source": [
    "### 함수 (Function)\n",
    "- 기본 함수 선언 (function 함수명() {})\n",
    "    - function 키워드로 시작한다.\n",
    "    - 코드 최상단으로 자동 이동(hoisting) 된다: 선언 전에 호출해도 오류가 나지 않는다.\n",
    "        - 선언식 함수는 코드가 실행되기 전에 메모리에 올라간다.\n",
    "- 함수 표현식 (const 변수명 = function() {})\n",
    "    - 함수 자체를 변수에 저장한다.\n",
    "    - 호이스팅 되지 않는다: 선언 이후에만 사용할 수 있다.\n",
    "        - 표현식 함수는 실행될 때 메모리에 저장된다.\n",
    "- 화살표 함수 (const 변수명 = () => {})\n",
    "    - 짧게 쓸 수 있다.\n",
    "    - this 바인딩 방식이 다르다. (초급에서는 깊이 몰라도 된다.)\n",
    "    - 화살표 함수는 항상 \"변수에 담기는 함수\" 형태로 사용되기 때문에 표현식이 된다.\n",
    "        - 호이스팅 되지 않는다."
   ]
  },
  {
   "cell_type": "code",
   "execution_count": 2,
   "id": "1a2209df",
   "metadata": {},
   "outputs": [
    {
     "name": "stdout",
     "output_type": "stream",
     "text": [
      "안녕, 나는 sk\n"
     ]
    },
    {
     "data": {
      "text/plain": [
       "undefined"
      ]
     },
     "execution_count": 2,
     "metadata": {},
     "output_type": "execute_result"
    }
   ],
   "source": [
    "helloD('sk');  // 앞서 호출 가능\n",
    "\n",
    "// 함수 선언식\n",
    "function helloD(name) {\n",
    "  console.log(`안녕, 나는 ${name}`);\n",
    "}"
   ]
  },
  {
   "cell_type": "code",
   "execution_count": 3,
   "id": "abb4c852",
   "metadata": {},
   "outputs": [
    {
     "name": "stdout",
     "output_type": "stream",
     "text": [
      "안녕, 나는 sk\n"
     ]
    },
    {
     "data": {
      "text/plain": [
       "undefined"
      ]
     },
     "execution_count": 3,
     "metadata": {},
     "output_type": "execute_result"
    }
   ],
   "source": [
    "// 함수 표현식\n",
    "const helloE = function(name) {\n",
    "  console.log(`안녕, 나는 ${name}`);\n",
    "};\n",
    "\n",
    "helloE('sk');  // 선언 이후 호출"
   ]
  },
  {
   "cell_type": "code",
   "execution_count": 4,
   "id": "caccd331",
   "metadata": {},
   "outputs": [
    {
     "name": "stdout",
     "output_type": "stream",
     "text": [
      "안녕, 나는 sk\n"
     ]
    },
    {
     "data": {
      "text/plain": [
       "'안녕, 나는 sk'"
      ]
     },
     "execution_count": 4,
     "metadata": {},
     "output_type": "execute_result"
    }
   ],
   "source": [
    "// 화살표 함수\n",
    "const helloA = (name) => {\n",
    "  return `안녕, 나는 ${name}`;\n",
    "};\n",
    "\n",
    "// 화살표 함수 (더 축약): (인자 1개), {코드 1줄}, return 생략 가능하다.\n",
    "const helloAA = name => `안녕, 나는 ${name}`;\n",
    "\n",
    "console.log(helloA('sk'));\n",
    "helloAA('sk');"
   ]
  },
  {
   "cell_type": "markdown",
   "id": "08f9d54a",
   "metadata": {},
   "source": [
    "`함수 선언식과 함수 표현식은 왜 구분하는가?`\n",
    "- \"흐름의 유연성 때문이다.\"\n",
    "- 함수 선언식은 항상 코드 최상단에 존재하게 된다. (호이스팅)\n",
    "    - 명확한, 고정된 함수를 정의할 때 쓴다.\n",
    "- 함수 표현식은 필요할 때/조건에 따라 함수 자체를 변수처럼 다루기 위해 쓴다.\n",
    "    - 더 유연하고 동적인 코드가 가능하다."
   ]
  },
  {
   "cell_type": "markdown",
   "id": "d0ec1446",
   "metadata": {},
   "source": [
    "`함수를 변수에 저장하는 이유`\n",
    "- \"함수를 데이터처럼 다루기 위해서다.\"\n",
    "- 함수를 변수에 담으면\n",
    "    - 그 함수 자체를 전달하고/바꾸고/조건문 안에서 설정하고/다른 함수에게 넘길 수 있다.\n",
    "    - 함수도 값이라는 철학을 따르게 된다. (First-class citizen)"
   ]
  },
  {
   "cell_type": "code",
   "execution_count": 5,
   "id": "30924c18",
   "metadata": {},
   "outputs": [
    {
     "name": "stdout",
     "output_type": "stream",
     "text": [
      "안녕, 나는 sk\n"
     ]
    },
    {
     "data": {
      "text/plain": [
       "undefined"
      ]
     },
     "execution_count": 5,
     "metadata": {},
     "output_type": "execute_result"
    }
   ],
   "source": [
    "// 함수를 인자로 넘기기\n",
    "function greetA(name) {\n",
    "  return `안녕, 나는 ${name}`;\n",
    "}\n",
    "\n",
    "function processName(name, callback) {\n",
    "  return callback(name);\n",
    "}\n",
    "\n",
    "console.log(processName('sk', greetA));  // 함수 greetA를 값처럼 넘겼다."
   ]
  },
  {
   "cell_type": "code",
   "execution_count": 6,
   "id": "08240d06",
   "metadata": {},
   "outputs": [
    {
     "name": "stdout",
     "output_type": "stream",
     "text": [
      "좋은 아침, sk\n"
     ]
    },
    {
     "data": {
      "text/plain": [
       "undefined"
      ]
     },
     "execution_count": 6,
     "metadata": {},
     "output_type": "execute_result"
    }
   ],
   "source": [
    "// 조건에 따라 함수 바꾸기\n",
    "let greetC;\n",
    "\n",
    "if (new Date().getHours() < 12) {\n",
    "  greetC = function(name) { return `좋은 아침, ${name}`; };\n",
    "} else {\n",
    "  greetC = function(name) { return `좋은 저녁, ${name}`; };\n",
    "}\n",
    "\n",
    "console.log(greetC('sk'));  // 아침/저녁에 따라 다른 함수를 설정했다."
   ]
  },
  {
   "cell_type": "markdown",
   "id": "337dbdbd",
   "metadata": {},
   "source": [
    "### 1-(1) 기본 비동기 처리 이해\n",
    "- 동기 (synchronous): 코드가 위에서 아래로 순차 실행된다.\n",
    "- 비동기 (asynchronous): 코드가 완료를 기다리지 않고 넘어간다."
   ]
  },
  {
   "cell_type": "code",
   "execution_count": 7,
   "id": "8680cfc3",
   "metadata": {},
   "outputs": [
    {
     "name": "stdout",
     "output_type": "stream",
     "text": [
      "1\n",
      "3\n"
     ]
    },
    {
     "data": {
      "text/plain": [
       "undefined"
      ]
     },
     "execution_count": 7,
     "metadata": {},
     "output_type": "execute_result"
    }
   ],
   "source": [
    "console.log('1');  // 동기\n",
    "\n",
    "setTimeout(() => {\n",
    "  console.log('2');  // 비동기: 1초(1000ms) 후 실행된다.\n",
    "}, 1000);\n",
    "\n",
    "console.log('3');  // 동기"
   ]
  },
  {
   "cell_type": "markdown",
   "id": "d5fbf7fc",
   "metadata": {},
   "source": [
    "### 1-(2) Promise 개념\n",
    "- 비동기 작업의 실행 결과를 기다렸다가 처리할 수 있도록 도와주는 객체다.\n",
    "- 특정 작업이 성공할지/실패할지 아직 알 수 없지만 결과가 나오면 어떻게 처리할지 미리 약속해둔다.\n",
    "- Promise에는 세 가지 가능한 상태가 있다.\n",
    "    - Pending (대기): 작업이 아직 완료되지 않은 상태\n",
    "    - Fulfilled (성공): 작업이 정상적으로 완료된 상태\n",
    "    - Rejected (실패): 작업이 오류 또는 문제로 인해 실패한 상태\n",
    "- 비동기 작업을 원활하게 처리하기 위해 .then()과 .catch()를 사용한다.\n",
    "    - .then(): 성공한 경우 실행할 코드를 등록한다.\n",
    "    - .catch(): 실패한 경우 실행할 코드를 등록한다."
   ]
  },
  {
   "cell_type": "markdown",
   "id": "ef46b773",
   "metadata": {},
   "source": [
    "### 1-(3) async/await로 다루기\n",
    "- async는 함수 앞에 붙여 비동기 함수를 정의하는 키워드다.\n",
    "    - async 함수는 항상 async Promise를 반환한다.\n",
    "- await은 async 함수 안에서만 사용하는 키워드로서 await Promise가 완료될 때까지 함수의 흐름을 일시정지 시킨다.\n",
    "    - 자바스크립트는 본래 동기적으로 실행되기에 비동기 작업을 직접 기다릴 수 없지만,\n",
    "    - async 함수 내부에서는 await을 만나면 일시정지가 가능하다.\n",
    "- async/await의 이점\n",
    "    - 코드 흐름이 자연스럽다.\n",
    "        - .then().catch() 방식은 중첩이 많아 코드가 복잡해진다.\n",
    "        - await을 사용하면 비동기 작업 중 필요한 지점에서 흐름을 멈춰 동기 코드처럼 순차적으로 실행된다.\n",
    "    - 코드 구조가 간결하다.\n",
    "        - .then()이 여러 번 연결되면 로직이 복잡해진다.\n",
    "        - async 함수 안에 await을 나란히 배치하면 각 작업을 명확하게 분리해 처리할 수 있다.\n",
    "    - 예외 처리가 직관적이다.\n",
    "        - .catch()로 한꺼번에 예외를 처리하는 대신,\n",
    "        - async 함수 안에서 try/catch를 사용하면 오류 발생 지점에서 즉시 처리할 수 있다."
   ]
  },
  {
   "cell_type": "markdown",
   "id": "77f8de30",
   "metadata": {},
   "source": [
    "`비동기 흐름 파이썬과 비교`\n",
    "- `기본 구조 차이`\n",
    "    - \"python은 느긋하다.\"\n",
    "        - python은 기본이 동기, 비동기를 쓰려면 asyncio, await 등을 명시해야 한다.\n",
    "    - \"javascript는 급하다.\"\n",
    "        - javascript도 기본이 동기지만 비동기 지원이 강하다. Promise 체계를 통해 async/await를 다룬다. (특히 브라우저 환경)\n",
    "    - 구조는 다르지만 async/await 문법 자체는 거의 유사하다.\n",
    "- `간단한 지연(delay) 처리`\n",
    "    - python은 await 키워드로 명확히 \"여기서 멈춰라\" 명령한다.\n",
    "    - javascript는 setTimeout을 호출하면 그 순간 대기 예약만 하고 바로 다음 줄을 실행해버린다.\n",
    "- `Future vs Promise`\n",
    "    - 생성 방법: 비동기 약속(Future 또는 Promise)을 만드는 방법 (약속을 세우는 것)\n",
    "        - “지금은 결과가 없지만 나중에 결과가 생길 약속”을 만든다.\n",
    "        - python: asyncio.Future()\n",
    "        - javascript: new Promise((resolve, reject) => { ... })\n",
    "    - 완료 방법: 비동기 약속을 성공 상태(Fulfilled)로 만드는 방법 (약속을 이행하는 것)\n",
    "        - \"이 약속은 성공했어\"라고 선언하는 것이다.\n",
    "        - python: set_result(값)\n",
    "        - javascript: resolve(값)\n",
    "    - 실패 방법: 비동기 약속을 실패 상태(Rejected)로 만드는 방법 (약속을 이행하는 것)\n",
    "        - \"이 약속은 실패했어\" 라고 선언하는 것이다.\n",
    "        - python: set_exception(에러)\n",
    "        - javascript: reject(에러)\n",
    "    - 사용법: 비동기 약속이 완료될 때 결과를 얻는 방법 (약속이 끝나기를 기다리는 것)\n",
    "        - \"약속이 이행될 때까지 기다리고, 결과를 받아 행동하는 방법\"이다.\n",
    "        - python: await 키워드로 Future를 기다린다.\n",
    "        - javascript: .then()으로 성공 결과를 받고 .catch()로 실패 결과를 받는다. 또는 await 키워드로 Promise를 기다린다.\n",
    "- `async/await 비교`\n",
    "    - async 함수 안에서 await를 쓰는 규칙은 같다.\n",
    "    - 단, python은 asyncio.run()으로 감싸야 한다."
   ]
  },
  {
   "cell_type": "markdown",
   "id": "e478769a",
   "metadata": {},
   "source": [
    "### 동기 (Synchronous)\n",
    "- \"한 가지 일을 끝내야 다음 일을 시작할 수 있다.\"\n",
    "- 작업이 순서대로, 기다리며 처리된다.\n",
    "    - 앞선 작업이 끝나야 다음 작업이 진행된다.\n",
    "- 모든 흐름이 직선적이다.\n",
    "    - 오래 걸리는 작업이 있을 때 모든 흐름이 멈춘다."
   ]
  },
  {
   "cell_type": "markdown",
   "id": "ab38c4a2",
   "metadata": {},
   "source": [
    "### 비동기 (Asynchronous)\n",
    "- \"어떤 일을 요청해놓고, 끝나기를 기다리지 않고 다른 일을 한다.\"\n",
    "- 작업을 요청한 후 기다리지 않고 다음 작업을 진행한다.\n",
    "    - 나중에 결과가 오면 콜백하거나 약속(Promise)을 통해 처리한다.\n",
    "- 흐름이 가지처럼 퍼진다.\n",
    "    - 오래 걸리는 작업과 별개로 다른 작업을 계속할 수 있다.\n",
    "    - 현대 웹, 서버, 블록체인 모두 수많은 요청을 동시에 다루기 위해 비동기가 필수가 되었다."
   ]
  },
  {
   "cell_type": "markdown",
   "id": "910b566e",
   "metadata": {},
   "source": [
    "`동기 작업 흐름과 주체`\n",
    "- `코드 읽기`\n",
    "    - 파일의 코드를 위에서 아래로 읽는다.\n",
    "    - JavaScript 엔진이 한다.\n",
    "- `Call Stack에 올리기`\n",
    "    - 동기 함수나 명령을 Call Stack에 쌓는다.\n",
    "    - JavaScript 엔진이 한다.\n",
    "- `실행`\n",
    "    - Call Stack 가장 위에 있는 작업을 즉시 실행한다.\n",
    "    - JavaScript 엔진이 한다.\n",
    "- `제거`\n",
    "    - 실행이 끝나면 Call Stack에서 제거한다.\n",
    "    - JavaScript 엔진이 한다."
   ]
  },
  {
   "cell_type": "markdown",
   "id": "33a3d119",
   "metadata": {},
   "source": [
    "`비동기 작업 흐름과 주체: setTimeout`\n",
    "- `코드 읽기`\n",
    "    - setTimeout 코드를 읽는다.\n",
    "    - JavaScript 엔진이 한다.\n",
    "- `비동기 요청`\n",
    "    - setTimeout 함수를 호출한다.\n",
    "    - JavaScript 엔진이 한다.\n",
    "- `외부 시스템에 위임` (외부 위임이 Web APIs)\n",
    "    - 타이머를 Web API 시스템에 넘긴다.\n",
    "    - JavaScript 엔진이 넘긴다.\n",
    "    - 브라우저의 Web APIs (Timer)가 타이머를 재고 관리한다.\n",
    "- `대기(Pending)` (대기 종류가 시간)\n",
    "    - 설정한 시간(ms) 동안 기다린다.\n",
    "    - Web APIs가 한다.\n",
    "- `완료 후 대기열 등록`\n",
    "    - 시간이 끝나면 Task Queue에 콜백을 등록한다.\n",
    "        - setTimeout은 항상 Task Queue에 들어간다.\n",
    "    - Web APIs가 한다.\n",
    "- `Call Stack에 올리도록 결정`\n",
    "    - Call Stack이 비었을 때 Task Queue에서 콜백을 선택해 꺼낸다.\n",
    "    - Event Loop가 한다.\n",
    "- `Call Stack에 올리기 + 실행 + 제거`\n",
    "    - 선택된 콜백을 Call Stack에 올리고, 실행하고, 제거한다.\n",
    "    - JavaScript 엔진이 한다."
   ]
  },
  {
   "cell_type": "markdown",
   "id": "356698ce",
   "metadata": {},
   "source": [
    "`비동기 작업 흐름과 주체: fetch`\n",
    "- `코드 읽기`\n",
    "    - fetch 코드를 읽는다.\n",
    "    - JavaScript 엔진이 한다.\n",
    "- `비동기 요청`\n",
    "    - fetch 함수를 호출한다.\n",
    "    - JavaScript 엔진이 한다.\n",
    "- `외부 시스템에 위임` (외부 위임이 Web APIs)\n",
    "    - HTTP 요청을 Web API 시스템에 넘긴다.\n",
    "    - JavaScript 엔진이 넘긴다.\n",
    "    - 브라우저의 Web APIs (Network)가 네트워크 요청을 보내고 응답을 기다린다.\n",
    "- `대기(Pending)` (대기 종류가 서버 응답)\n",
    "    - 서버 응답을 기다린다.\n",
    "    - Web APIs가 한다.\n",
    "- `완료 후 대기열 등록`\n",
    "    - 응답이 오면 관련 Promise를 resolve하고 Microtask Queue에 then 콜백을 등록한다.\n",
    "        - fetch는 Promise 기반이다. Promise then이 Microtask Queue에 들어간다.\n",
    "    - Web APIs가 한다.\n",
    "- `Call Stack에 올리도록 결정`\n",
    "    - Call Stack이 비었을 때 Microtask Queue에서 콜백을 선택해 꺼낸다.\n",
    "    - Event Loop가 한다.\n",
    "- `Call Stack에 올리기 + 실행 + 제거`\n",
    "    - 선택된 콜백을 Call Stack에 올리고, 실행하고, 제거한다.\n",
    "    - JavaScript 엔진이 한다."
   ]
  },
  {
   "cell_type": "markdown",
   "id": "03e6eba1",
   "metadata": {},
   "source": [
    "`비동기 작업 흐름과 주체: Promise`\n",
    "- `코드 읽기`\n",
    "    - new Promise(...) 코드를 읽는다.\n",
    "    - JavaScript 엔진이 한다.\n",
    "- `동기 실행`\n",
    "    - Promise 생성자 내부의 실행은 항상 \"즉시\" (동기, Call Stack 위에서 바로) 일어난다.\n",
    "        - `new Promise(executor)`를 호출하는 즉시\n",
    "        - Promise 객체를 만들고, constructor 안의 executor 함수를 바로 실행한다.\n",
    "        - 이때는 완전히 동기적이다.\n",
    "    - Promise 상태는 pending으로 설정되고, executor 함수(resolve, reject 인자 포함)를 실행한다.\n",
    "        - resolve를 바로 호출할 수도/setTimeout 등을 통해 비동기적으로 호출할 수도 있다.\n",
    "    - JavaScript 엔진이 한다.\n",
    "- `비동기 등록` (외부 위임 없음, 내부만) (대기 종류 없음)\n",
    "    - Promise 생성과 resolve는 동기적이지만 then/catch 실행은 비동기로 이어진다.\n",
    "        - Promise 내부에서 resolve() 또는 reject()가 호출되는 순간\n",
    "        - 핸들러로 등록된 .then() 또는 .catch() 콜백을 즉시 (동기적으로) Microtask Queue에 등록한다.\n",
    "        - 등록된 콜백은 Call Stack이 비워진 후 Microtask Queue에서 비동기적으로 실행된다.\n",
    "    - Promise의 상태가 Fulfilled/Rejected로 바뀌고, 콜백이 Microtask Queue에 올라간다.\n",
    "        - 아직 콜백은 Call Stack에 올리지 않는다. Queue에서 대기한다.\n",
    "    - JavaScript 엔진 내부의 Promise 메커니즘이 한다.\n",
    "- `Call Stack에 올리도록 결정`\n",
    "    - Call Stack이 비었을 때 Microtask Queue에서 콜백을 선택해 꺼낸다.\n",
    "    - Event Loop가 한다.\n",
    "- `Call Stack에 올리기 + 실행 + 제거`\n",
    "    - 선택된 콜백을 Call Stack에 올리고, 실행하고, 제거한다.\n",
    "    - JavaScript 엔진이 한다."
   ]
  },
  {
   "cell_type": "markdown",
   "id": "31e3e037",
   "metadata": {},
   "source": [
    "`비동기 작업 흐름과 주체: async/await`\n",
    "- `코드 읽기`\n",
    "    - 코드를 위에서 아래로 읽는다.\n",
    "    - async 키워드로 선언된 함수를 보면:\n",
    "        - 함수 본문을 실행하지 않고 함수 정의(객체)만 만든다.\n",
    "        - 아직 아무 Promise도 생성되지 않는다.\n",
    "    - JavaScript 엔진이 한다.\n",
    "- `동기 실행`\n",
    "    - async 함수를 호출하면:\n",
    "        - Call Stack에 async 함수가 올라간다.\n",
    "        - async 함수 자신만의 Promise를 즉시 생성하고 반환한다. (Pending 상태)\n",
    "            - 여기서 만들어진 Promise는 \"async 함수의 반환 Promise\"다. (async Promise)\n",
    "        - async 함수 본문의 코드를 실행하기 시작한다.\n",
    "            - await을 만나기 전까지는 동기적으로 실행된다.\n",
    "            - 만약 await 없이 값을 return하면\n",
    "                - Promise.resolve(값)을 통해 async Promise가 Fulfilled 상태가 된다.\n",
    "    - JavaScript 엔진이 한다.\n",
    "- `비동기 등록` (외부 위임 없음, 내부만) (대기 종류가 Promise 완료 대기)\n",
    "    - async 함수 안을 실행하다가 await 키워드를 만난다.\n",
    "    - await 오른쪽 값을 평가한다. (await Promise)\n",
    "        - 값이 일반 값이면 Promise.resolve(값)으로 감싸서 새 Promise를 생성해서 기다린다.\n",
    "        - 값이 이미 Promise면 그 Promise를 그대로 기다린다.\n",
    "            - \"누군가 이미 생성해서 존재하는 Promise 객체\"를 말한다.\n",
    "                - new Promise((resolve, reject) => {...})\n",
    "                - 다른 async 함수 호출 결과\n",
    "                - 라이브러리나 API가 반환한 Promise\n",
    "    - await Promise의 .then(onFulfilled, onRejected)을 호출해서 콜백을 등록한다.\n",
    "        - onFulfilled에 await 이후 코드 전체를 묶어서 등록한다.\n",
    "        - onRejected는 명시적으로 설정하지 않는다. (undefined)\n",
    "            - await은 Promise 실패를 .catch()로 처리하지 않고 직접 에러를 throw한다.\n",
    "    - await Promise의 상태를 확인한다.\n",
    "        - Pending이면: 기다리기로 하고 async 함수 실행을 일시정지(paused)한다.\n",
    "        - Fulfilled면: onFulfilled 콜백을 Microtask Queue에 등록한다.\n",
    "        - Rejected면: onRejected가 없으므로 await이 에러를 던진다.\n",
    "            - async 함수 안에 try/catch가 있으면 잡는다.\n",
    "            - try/catch가 없으면 async 함수 자체가 실패한다.\n",
    "                - async Promise도 Rejected 상태가 된다.\n",
    "    - JavaScript 엔진과 내부의 Promise 메커니즘이 한다.\n",
    "- `Call Stack에 올리도록 결정`\n",
    "    - Call Stack이 비었을 때 Microtask Queue에서 콜백을 선택해 꺼낸다.\n",
    "    - Event Loop가 한다.\n",
    "- `Call Stack에 올리기 + 실행 + 제거`\n",
    "    - 선택된 콜백을 Call Stack에 올리고, 실행하고, 제거한다.\n",
    "    - JavaScript 엔진이 한다."
   ]
  }
 ],
 "metadata": {
  "kernelspec": {
   "display_name": "JavaScript (Node.js)",
   "language": "javascript",
   "name": "javascript"
  },
  "language_info": {
   "file_extension": ".js",
   "mimetype": "application/javascript",
   "name": "javascript",
   "version": "18.20.8"
  }
 },
 "nbformat": 4,
 "nbformat_minor": 5
}
