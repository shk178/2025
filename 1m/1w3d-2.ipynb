{
 "cells": [
  {
   "cell_type": "markdown",
   "id": "de954e80",
   "metadata": {},
   "source": [
    "# 3일차 Solidity 첫 걸음 + 비트코인 구조 학습\n",
    "Solidity 변수, 함수 작성 / 트랜잭션, UTXO 이해.\n",
    "## 1. Solidity 기본 문법 첫 걸음\n",
    "- 환경 세팅\n",
    "- Solidity 기초 문법\n",
    "- 실습\n",
    "## 2. 비트코인 트랜잭션 구조와 UTXO 이해\n",
    "- 트랜잭션 기본 구조\n",
    "- 예제 트랜잭션\n",
    "- UTXO (Unspent Transaction Output)\n",
    "- 비트코인 트랜잭션 해체하기"
   ]
  },
  {
   "cell_type": "markdown",
   "id": "1cbbaf3a",
   "metadata": {},
   "source": [
    "### 2-(1) 트랜잭션 기본 구조\n",
    "- 트랜잭션은 두 가지 주요 부분으로 구성된다:\n",
    "    - **입력(Input)**: UTXO를 소비.\n",
    "    - **출력(Output)**: 새로운 UTXO를 생성."
   ]
  },
  {
   "cell_type": "markdown",
   "id": "b10ca154",
   "metadata": {},
   "source": [
    "### 2-(2) 예제 트랜잭션\n",
    "- Input:\n",
    "    - Previous Transaction Hash: `0x123...`\n",
    "    - Index: `0`\n",
    "- Output:\n",
    "    - Recipient Address: `1A1zP1eP5QGefi2DMPTfTL5SLmv7DivfNa`\n",
    "    - Value: `0.5 BTC`"
   ]
  },
  {
   "cell_type": "markdown",
   "id": "ea523440",
   "metadata": {},
   "source": [
    "### 2-(3) UTXO (Unspent Transaction Output)\n",
    "- **UTXO란?**\n",
    "    - 사용되지 않은 트랜잭션 출력. 즉, 잔고를 나타낸다.\n",
    "- 예를 들어,\n",
    "    - A가 B에게 `0.5 BTC`를 보냈을 때:\n",
    "        - Input: A의 이전 UTXO\n",
    "        - Output 1: B의 새로운 `0.5 BTC` UTXO\n",
    "        - Output 2: A의 잔돈 UTXO"
   ]
  },
  {
   "cell_type": "markdown",
   "id": "f005ed30",
   "metadata": {},
   "source": [
    "### 2-(4) 비트코인 트랜잭션 해체하기\n",
    "1. [Blockcypher](https://live.blockcypher.com/btc/) 또는 [Blockchain Explorer](https://www.blockchain.com/explorer) 접속.\n",
    "2. 최근 트랜잭션 하나를 선택.\n",
    "3. 트랜잭션 ID를 분석하고,\n",
    "    - Input이 어디에서 왔는지 추적.\n",
    "    - Output이 어디로 가는지 분석.\n",
    "- **질문:**\n",
    "    - Input의 UTXO가 어떤 주소에서 왔는가?\n",
    "    - Output의 새로운 UTXO는 누구에게로 가는가?"
   ]
  }
 ],
 "metadata": {
  "language_info": {
   "name": "python"
  }
 },
 "nbformat": 4,
 "nbformat_minor": 5
}
