{
 "cells": [
  {
   "cell_type": "markdown",
   "id": "0d89efea",
   "metadata": {},
   "source": [
    "# 1일차 Python 문법 복습 + 블록체인 기본 개념 정리\n",
    "파이썬 함수, 클래스 복습 / 블록체인이란 무엇인가? 탈중앙화 의미.\n",
    "## 1. Python 복습\n",
    "- 함수 (Function)\n",
    "- 클래스 (Class)\n",
    "- 리스트/딕셔너리 조작 (List/Dict)\n",
    "- 에러 처리 (Try/Except)\n",
    "- 파일 입출력 (File I/O)\n",
    "## 2. 블록체인 기본\n",
    "- 블록 (Block)\n",
    "- 체인 (Chain)\n",
    "- 탈중앙화 (Decentralization)\n",
    "- 합의 알고리즘 (Consensus)\n",
    "- 트랜잭션 (Transaction)"
   ]
  },
  {
   "cell_type": "markdown",
   "id": "ed4bc177",
   "metadata": {},
   "source": [
    "### 1-(1) 함수"
   ]
  },
  {
   "cell_type": "code",
   "execution_count": 1,
   "id": "4bf442da",
   "metadata": {},
   "outputs": [
    {
     "name": "stdout",
     "output_type": "stream",
     "text": [
      "Hello, sk!\n"
     ]
    }
   ],
   "source": [
    "def greet(name):\n",
    "    return f\"Hello, {name}!\"\n",
    "\n",
    "print(greet(\"sk\"))"
   ]
  },
  {
   "cell_type": "code",
   "execution_count": 2,
   "id": "e1273ccd",
   "metadata": {},
   "outputs": [
    {
     "name": "stdout",
     "output_type": "stream",
     "text": [
      "숨겨진 메시지\n"
     ]
    }
   ],
   "source": [
    "def test():\n",
    "    return \"숨겨진 메시지\"\n",
    "\n",
    "test()  # return만 했을 뿐 출력하지 않았다\n",
    "\n",
    "x = test()  # 바로 프린트해도 되지만 변수에 담아서 다시 쓰자\n",
    "print(x)"
   ]
  },
  {
   "cell_type": "markdown",
   "id": "43448ebd",
   "metadata": {},
   "source": [
    "### 1-(2) 클래스\n",
    "- class 키워드로 클래스를 정의한다.\n",
    "- __init__ 메서드는 \"객체가 만들어질 때\" 자동으로 호출된다. (생성자)\n",
    "    - 속성을 정의하고 초기화한다.\n",
    "    - 만약 __init__ 안에서 속성을 정의하지 않으면 객체를 생성했을 때 아무런 속성도 가지지 않는다.\n",
    "- self는 \"자기 자신\"을 가리킨다.\n",
    "    - python은 명확성을 중요시한다.\n",
    "    - \"이 함수는 어떤 객체에 소속된 행동이다.\" ➔ \"어떤 클래스(Class)로부터 만들어진 객체(Instance)의 행동이다.\"\n",
    "    - \"그 객체(self)가 누구인지를 항상 의식하라.\" ➔ \"현재 실행 중인 인스턴스가 어떤 것인지를 스스로 알아야 한다.\"\n",
    "- __str__ 메서드는 print()될 때 문자열로 변환하는 방식을 정의한다.\n",
    "    - python의 모든 클래스는 기본적으로 __init__, __str__ 같은 특수 메서드(magic method, dunder method)를 상속받고 있다.\n",
    "    - __init__이나 __str__를 정의하는 것은 기본 행동을 \"내 방식대로 다시 정한다\"는 뜻이다 (오버라이딩)\n",
    "    - __init__가 객체 생성 시 자동 호출되는 것처럼 print(객체) 하면 __str__이 자동 호출된다."
   ]
  },
  {
   "cell_type": "code",
   "execution_count": 3,
   "id": "eaaa7591",
   "metadata": {},
   "outputs": [
    {
     "name": "stdout",
     "output_type": "stream",
     "text": [
      "Block 1: Genesis Block\n"
     ]
    }
   ],
   "source": [
    "class Block:\n",
    "    def __init__(self, index, data):  # 모든 인스턴스 메서드에 self를 첫 번째 인자로 명시적으로 적는다\n",
    "        self.index = index  # 속성 정의\n",
    "        self.data = data\n",
    "    \n",
    "    def __str__(self):\n",
    "        return f\"Block {self.index}: {self.data}\"\n",
    "\n",
    "# 객체 생성: __init__ 호출한다.\n",
    "block = Block(1, \"Genesis Block\")\n",
    "\n",
    "# 객체 출력: __str__ 호출한다.\n",
    "print(block)"
   ]
  },
  {
   "cell_type": "code",
   "execution_count": 4,
   "id": "e9ffcbea",
   "metadata": {},
   "outputs": [
    {
     "name": "stdout",
     "output_type": "stream",
     "text": [
      "<__main__.EmptyBlock object at 0x00000222F8143380>\n"
     ]
    }
   ],
   "source": [
    "class EmptyBlock:\n",
    "    pass  # python은 문법적으로 class나 def 다음에 반드시 내용이 있어야 한다. 없으면 에러가 나기 때문에 pass로 자리를 메운다.\n",
    "# pass 주로 쓰는 곳: 비어 있는 클래스, 비어 있는 함수, 일시적으로 구현하지 않은 부분, 조건문 내부 (특정 조건일 때 아무것도 하지 않을 때)\n",
    "\n",
    "eb = EmptyBlock()\n",
    "print(eb)  # 메모리 주소를 보여주는 기계적인 모습만 남는다. (\"이 객체가 어디 있다\"는 정보는 알지만 \"무엇인가\"는 알 수 없다.)"
   ]
  },
  {
   "cell_type": "code",
   "execution_count": 5,
   "id": "235fec4a",
   "metadata": {},
   "outputs": [
    {
     "name": "stdout",
     "output_type": "stream",
     "text": [
      "<__main__.Block object at 0x00000222F8179A00>\n",
      "Block #1\n",
      "Data: Genesis Block\n",
      "Timestamp: 2025-04-26\n",
      "<bound method Block.detailed_view of <__main__.Block object at 0x00000222F8179A00>>\n"
     ]
    }
   ],
   "source": [
    "class Block:\n",
    "    def __init__(self, index, data):\n",
    "        self.index = index\n",
    "        self.data = data\n",
    "        self.timestamp = \"2025-04-26\"\n",
    "\n",
    "    def detailed_view(self):  # 다양한 형태의 출력을 원하면 직접 메서드를 만들어 사용한다\n",
    "        return f\"Block #{self.index}\\nData: {self.data}\\nTimestamp: {self.timestamp}\"\n",
    "\n",
    "block = Block(1, \"Genesis Block\")\n",
    "\n",
    "print(block)  # __str__()이 자동 실행된다. 속성이 있어도 __str__을 재정의하지 않으면 메모리 주소만 출력된다.\n",
    "\n",
    "print(block.detailed_view())  # detailed_view라는 메서드를 실행한다. 일반 메서드는 ()로 직접 호출해야 한다.\n",
    "\n",
    "print(block.detailed_view)  # detailed_view 메서드 객체 자체를 출력한다. 메모리 주소와 함께 \"이것은 함수다\"라는 사실을 보여준다."
   ]
  },
  {
   "cell_type": "markdown",
   "id": "cbe20771",
   "metadata": {},
   "source": [
    "`만약 블록체인 노드를 만든다면 \"사용자용 출력\"과 \"시스템 내부용 출력\"은 같아야 할까? 달라야 할까?`\n",
    "- \"달라야 한다\"\n",
    "- 사용자에게는 간결하고 이해하기 쉬운 정보를 보여줘야 한다.\n",
    "- 시스템(노드 운영자)에게는 더 많은 내부 정보가 필요하다. (메모리 주소, 상태 정보, 등등)\n",
    "- 실제로 __str__을 정의하지 않으면 print(객체)가 __repr__을 대신 호출한다.\n",
    "    - 앞서 봤던 것처럼 <클래스명 객체 at 메모리주소>가 출력된다.\n",
    "    - 기본 __repr__이 메모리 주소와 함께 \"나는 이 클래스의 인스턴스다\"라고 말하는 것이다.\n",
    "    - print(객체): 재정의된 __str__ ➔ 재정의된 __repr__ ➔ 기본 __repr__ 순으로 상황에 따라 호출한다.\n",
    "- str은 사용자 친화적으로 보기 편하게 출력하도록 설계하자 (\"Block 1: Genesis Block\")\n",
    "- repr은 개발자 친화적으로 디버깅하거나 복제하기 좋게 출력하도록 설계하자 (\"Block(1, 'Genesis Block')\")"
   ]
  },
  {
   "cell_type": "code",
   "execution_count": 6,
   "id": "2272b9fb",
   "metadata": {},
   "outputs": [
    {
     "name": "stdout",
     "output_type": "stream",
     "text": [
      "Block(1, 'Genesis Block')\n",
      "Block(1, 'Genesis Block')\n"
     ]
    }
   ],
   "source": [
    "class Block:\n",
    "    def __init__(self, index, data):\n",
    "        self.index = index\n",
    "        self.data = data\n",
    "    \n",
    "    def __repr__(self):\n",
    "        return f\"Block({self.index!r}, {self.data!r})\"\n",
    "\n",
    "block = Block(1, \"Genesis Block\")\n",
    "print(block)  # __str__이 없으면 __repr__이 대신 호출된다\n",
    "print(repr(block))  # 명시적으로 __repr__ 호출"
   ]
  },
  {
   "cell_type": "markdown",
   "id": "6e7b21f1",
   "metadata": {},
   "source": [
    "### 1-(3) 리스트 조작\n",
    "- 리스트는 순서를 가진 데이터다.\n",
    "- 인덱스를 통해 수정, 삭제, 삽입할 수 있다.\n",
    "- 리스트에서 자주 쓰이는 메서드는 다음과 같다.\n",
    "    - .append(x): 리스트 맨 뒤에 x 추가\n",
    "    - .insert(i, x): 인덱스 i에 x 삽입\n",
    "    - .remove(x): 리스트에서 x 제거\n",
    "    - .pop(i): 인덱스 i의 요소 꺼내기 (제거하며)\n",
    "    - .sort(): 정렬\n",
    "    - .reverse(): 역순 정렬"
   ]
  },
  {
   "cell_type": "code",
   "execution_count": 7,
   "id": "ca00d53f",
   "metadata": {},
   "outputs": [
    {
     "name": "stdout",
     "output_type": "stream",
     "text": [
      "Genesis Block\n",
      "Second Block\n",
      "Third Block\n",
      "Fourth Block\n"
     ]
    }
   ],
   "source": [
    "# 리스트 생성\n",
    "blocks = [\"Genesis Block\", \"Second Block\", \"Third Block\"]\n",
    "\n",
    "# 리스트에 추가\n",
    "blocks.append(\"Fourth Block\")\n",
    "\n",
    "# 리스트 요소 읽기\n",
    "first_block = blocks[0]\n",
    "\n",
    "# 리스트 전체 출력\n",
    "for block in blocks:  # block은 리스트의 요소를 복사한 임시 변수다.\n",
    "    print(block)"
   ]
  },
  {
   "cell_type": "code",
   "execution_count": 8,
   "id": "fd64aa19",
   "metadata": {},
   "outputs": [
    {
     "name": "stdout",
     "output_type": "stream",
     "text": [
      "Genesis Block\n",
      "Updated Second Block\n",
      "Third Block\n",
      "Fourth Block\n"
     ]
    }
   ],
   "source": [
    "# 리스트에 새로운 블록을 추가\n",
    "blocks.append(\"Fifth Block\")\n",
    "\n",
    "# 두 번째 블록을 수정 (예: \"Updated Second Block\")\n",
    "blocks[1] = \"Updated Second Block\"\n",
    "\n",
    "# 마지막 블록을 삭제\n",
    "blocks.pop()\n",
    "\n",
    "# 현재 남아있는 모든 블록을 출력\n",
    "for block in blocks:\n",
    "    print(block)"
   ]
  },
  {
   "cell_type": "markdown",
   "id": "f3e61fa7",
   "metadata": {},
   "source": [
    "### 1-(4) 딕셔너리 조작\n",
    "- update()는 딕셔너리 갱신에 유용하다. (대량 수정)\n",
    "- [\"key\"] = value 방식으로 추가와 수정이 자유롭다.\n",
    "- pop(\"key\")는 삭제할 때 명확하게 작동한다.\n",
    "- .items()로 키와 값을 동시에 순회할 수 있다.\n",
    "- 딕셔너리에서 자주 쓰이는 메서드는 다음과 같다.\n",
    "    - .get(key): 키로 값 가져오기 (키 없으면 None)\n",
    "    - .keys(): 모든 키 반환\n",
    "    - .values(): 모든 값 반환\n",
    "    - .items(): 키-값 쌍 반환\n",
    "    - .pop(key): 키-값 제거 후 값 반환\n",
    "    - .update(dict2): 다른 딕셔너리로 갱신"
   ]
  },
  {
   "cell_type": "code",
   "execution_count": 9,
   "id": "56be0064",
   "metadata": {},
   "outputs": [
    {
     "name": "stdout",
     "output_type": "stream",
     "text": [
      "Genesis Block\n",
      "index: 1\n",
      "data: Updated Genesis Block\n",
      "timestamp: 2025-04-26\n",
      "miner: sk\n"
     ]
    }
   ],
   "source": [
    "# 딕셔너리 생성\n",
    "block_info = {\n",
    "    \"index\": 1,\n",
    "    \"data\": \"Genesis Block\",\n",
    "    \"timestamp\": \"2025-04-26\"\n",
    "}\n",
    "\n",
    "# 딕셔너리 값 읽기\n",
    "print(block_info[\"data\"])\n",
    "\n",
    "# 딕셔너리 값 추가/수정\n",
    "block_info[\"miner\"] = \"sk\"  # 키 없으면 추가\n",
    "block_info[\"data\"] = \"Updated Genesis Block\"  # 키 있으면 값 수정\n",
    "\n",
    "# 딕셔너리 전체 출력\n",
    "for key, value in block_info.items():  # key, value도 임시 변수다.\n",
    "    print(f\"{key}: {value}\")"
   ]
  },
  {
   "cell_type": "code",
   "execution_count": 10,
   "id": "c556655f",
   "metadata": {},
   "outputs": [
    {
     "name": "stdout",
     "output_type": "stream",
     "text": [
      "index: 2\n",
      "data: Second Block\n",
      "miner: sk\n",
      "difficulty: hard\n"
     ]
    }
   ],
   "source": [
    "# 다른 딕셔너리로 일괄 갱신\n",
    "block_info.update({\n",
    "    \"index\": 2,\n",
    "    \"data\": \"Second Block\",\n",
    "    \"timestamp\": \"2025-04-26\"\n",
    "})\n",
    "\n",
    "# 새 키-값 쌍을 추가 (예: \"difficulty\": \"easy\")\n",
    "block_info[\"difficulty\"] = \"easy\"\n",
    "\n",
    "# 기존 키의 값을 수정\n",
    "block_info[\"difficulty\"] = \"hard\"\n",
    "\n",
    "# 특정 키를 삭제\n",
    "block_info.pop(\"timestamp\")\n",
    "\n",
    "# 딕셔너리 안의 모든 키와 값을 출력\n",
    "for key, value in block_info.items():\n",
    "    print(f\"{key}: {value}\")"
   ]
  },
  {
   "cell_type": "markdown",
   "id": "c66f8f0a",
   "metadata": {},
   "source": [
    "`지금까지 정리`\n",
    "- 함수: 동작(행동)을 정의한다.\n",
    "- 클래스: 존재(형태)를 정의한다.\n",
    "- 리스트: 순서가 중요한 값들의 집합.\n",
    "- 딕셔너리: 키를 통해 값을 찾아가는 질서."
   ]
  },
  {
   "cell_type": "markdown",
   "id": "3ae2e592",
   "metadata": {},
   "source": [
    "### 1-(5) 에러 처리\n",
    "- python은 어떤 종류의 문제가 발생했는지 \"에러 클래스\"를 통해 알려준다.\n",
    "    - ValueError: 잘못된 값을 변환하려 할 때 (ex. \"abc\"를 int로)\n",
    "    - ZeroDivisionError: 0으로 나누었을 때\n",
    "    - TypeError: 타입이 잘못되었을 때 (ex. 문자열 + 숫자)\n",
    "    - KeyError: 딕셔너리에서 존재하지 않는 키를 찾을 때\n",
    "    - IndexError: 리스트 인덱스 초과 접근 시\n",
    "- try 블록 안에서 문제가 생기지 않으면 except를 거치지 않고 finally로 간다.\n",
    "- try 블록 안에서 문제가 생기면 except가 실행되고 finally가 다음으로 실행된다."
   ]
  },
  {
   "cell_type": "code",
   "execution_count": 11,
   "id": "aa8b9366",
   "metadata": {},
   "outputs": [
    {
     "name": "stdout",
     "output_type": "stream",
     "text": [
      "0으로 나눌 수 없습니다.\n",
      "실행 완료.\n"
     ]
    }
   ],
   "source": [
    "try:  # try: 시도한다.\n",
    "    result = 10 / 0\n",
    "except ZeroDivisionError:  # except: 실패할 경우 대응한다.\n",
    "    print(\"0으로 나눌 수 없습니다.\")\n",
    "finally:  # finally: 성공하든 실패하든 마지막에 항상 실행된다.\n",
    "    print(\"실행 완료.\")"
   ]
  },
  {
   "cell_type": "code",
   "execution_count": 12,
   "id": "4271acb6",
   "metadata": {},
   "outputs": [
    {
     "name": "stdout",
     "output_type": "stream",
     "text": [
      "정수를 입력해야 합니다.\n",
      "입력 처리 완료.\n"
     ]
    }
   ],
   "source": [
    "# 입력값을 받아 정수로 변환하는 코드를 작성하고 변환 실패 시 에러를 처리\n",
    "input_value = input(\"숫자를 입력하세요: \")  # input() 함수로 값을 입력받는다.\n",
    "\n",
    "try:\n",
    "    result = int(input_value)  # input()은 항상 문자열(str) 타입으로 값을 받아온다.\n",
    "except ValueError:  # 숫자가 아닌 값을 입력하면 int()가 실패하면서 ValueError가 발생한다.\n",
    "    print(\"정수를 입력해야 합니다.\")\n",
    "finally:\n",
    "    print(\"입력 처리 완료.\")"
   ]
  },
  {
   "cell_type": "markdown",
   "id": "66d59ab2",
   "metadata": {},
   "source": [
    "### 1-(6) 파일 입출력\n",
    "- with open()은 파일을 열고 작업이 끝나면 자동으로 닫는다. (리소스 누수 방지)\n",
    "- \"w\" 모드: 파일을 새로 쓰기 위해 연다. (기존 내용 삭제)\n",
    "- \"a\" 모드: 파일에 이어쓰기 위해 연다. (기존 내용 유지)\n",
    "- \"r\" 모드: 파일을 읽기 위해 연다.\n",
    "- .write(string): 문자열 하나를 파일에 쓴다 (파일에 기록됨)\n",
    "- .writelines(list_of_strings): 문자열 리스트를 한 번에 파일에 쓴다 (파일에 여러 줄 기록됨)\n",
    "    - 줄바꿈을 자동으로 안 붙인다.\n",
    "- .read(): 파일 전체를 읽어 하나의 문자열로 가져온다 (메모리에 긴 문자열로 저장)\n",
    "- .readlines(): 파일 전체를 읽어 각 줄을 리스트 요소로 만든다 (메모리에 줄 단위 리스트 저장)\n",
    "    - 줄마다 끝에 \\n이 남아 있다."
   ]
  },
  {
   "cell_type": "code",
   "execution_count": 13,
   "id": "6e7bd322",
   "metadata": {},
   "outputs": [
    {
     "name": "stdout",
     "output_type": "stream",
     "text": [
      "Genesis Block\n",
      "Second Block\n",
      "Third Block\n",
      "\n"
     ]
    }
   ],
   "source": [
    "blocks = [\"Genesis Block\", \"Second Block\", \"Third Block\"]\n",
    "\n",
    "with open(\"block_data.txt\", \"w\") as f:\n",
    "    for block in blocks:  # 리스트를 돌면서 하나씩 파일에 쓴다.\n",
    "        f.write(block + \"\\n\")  # 줄바꿈을 수동으로 붙인다.\n",
    "\n",
    "with open(\"block_data.txt\", \"r\") as f:\n",
    "    content = f.read()\n",
    "    print(content)"
   ]
  },
  {
   "cell_type": "code",
   "execution_count": 14,
   "id": "5c7bcea5",
   "metadata": {},
   "outputs": [
    {
     "name": "stdout",
     "output_type": "stream",
     "text": [
      "['Genesis Block\\n', 'Second Block\\n', 'Third Block\\n']\n",
      "Genesis Block\n",
      "Second Block\n",
      "Third Block\n",
      "\n"
     ]
    }
   ],
   "source": [
    "blocks = [\"Genesis Block\", \"Second Block\", \"Third Block\"]\n",
    "\n",
    "with open(\"block_data.txt\", \"w\") as f:\n",
    "    blocks_with_newline = [block + '\\n' for block in blocks] # 먼저 줄바꿈을 수동으로 붙인다.\n",
    "    print(blocks_with_newline)\n",
    "    f.writelines(blocks_with_newline)  # 리스트를 한 번에 파일에 쓴다.\n",
    "\n",
    "with open(\"block_data.txt\", \"r\") as f:\n",
    "    content = f.read()\n",
    "    print(content)"
   ]
  },
  {
   "cell_type": "code",
   "execution_count": 15,
   "id": "a26105ed",
   "metadata": {},
   "outputs": [
    {
     "name": "stdout",
     "output_type": "stream",
     "text": [
      "Genesis Block\n",
      "Second Block\n",
      "Third Block\n",
      "\n",
      "Genesis Block\n",
      "Second Block\n",
      "Third Block\n",
      "['Genesis Block', 'Second Block', 'Third Block']\n",
      "Genesis Block\n",
      "Second Block\n",
      "Third Block\n"
     ]
    }
   ],
   "source": [
    "blocks_with_newline = ['Genesis Block\\n', 'Second Block\\n', 'Third Block\\n']\n",
    "\n",
    "with open(\"block_data.txt\", \"w\") as f:\n",
    "    f.writelines(blocks_with_newline)\n",
    "\n",
    "with open(\"block_data.txt\", \"r\") as f:\n",
    "    content = f.read()\n",
    "    print(content)  # 파일 끝에 \\n이 출력된다.\n",
    "    print(content.strip())  # .strip()은 문자열 앞뒤 공백 문자 제거한다.\n",
    "    lines = content.splitlines()  # .splitlines()는 문자열을 \\n 기준으로 나누어 리스트로 만든다.\n",
    "    print(lines)\n",
    "    for line in lines:\n",
    "        print(line)"
   ]
  },
  {
   "cell_type": "code",
   "execution_count": 16,
   "id": "260b2e46",
   "metadata": {},
   "outputs": [
    {
     "name": "stdout",
     "output_type": "stream",
     "text": [
      "['Genesis Block\\n', 'Second Block\\n', 'Third Block\\n']\n",
      "Genesis Block\n",
      "Second Block\n",
      "Third Block\n"
     ]
    }
   ],
   "source": [
    "blocks_with_newline = ['Genesis Block\\n', 'Second Block\\n', 'Third Block\\n']\n",
    "\n",
    "with open(\"block_data.txt\", \"w\") as f:\n",
    "    f.writelines(blocks_with_newline)\n",
    "\n",
    "with open(\"block_data.txt\", \"r\") as f:\n",
    "    lines = f.readlines()\n",
    "    print(lines)  # 요소마다 \\n가 포함된 리스트가 출력된다.\n",
    "    for line in lines:\n",
    "        print(line.strip())  # .strip()으로 줄바꿈 제거한다."
   ]
  }
 ],
 "metadata": {
  "kernelspec": {
   "display_name": "Python 3",
   "language": "python",
   "name": "python3"
  },
  "language_info": {
   "codemirror_mode": {
    "name": "ipython",
    "version": 3
   },
   "file_extension": ".py",
   "mimetype": "text/x-python",
   "name": "python",
   "nbconvert_exporter": "python",
   "pygments_lexer": "ipython3",
   "version": "3.12.4"
  }
 },
 "nbformat": 4,
 "nbformat_minor": 5
}
