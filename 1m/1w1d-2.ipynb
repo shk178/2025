{
 "cells": [
  {
   "cell_type": "markdown",
   "id": "0d89efea",
   "metadata": {},
   "source": [
    "# 1일차 Python 문법 복습 + 블록체인 기본 개념 정리\n",
    "파이썬 함수, 클래스 복습 / 블록체인이란 무엇인가? 탈중앙화 의미.\n",
    "## 1. Python 복습\n",
    "- 함수 (Function)\n",
    "- 클래스 (Class)\n",
    "- 리스트/딕셔너리 조작 (List/Dict)\n",
    "- 에러 처리 (Try/Except)\n",
    "- 파일 입출력 (File I/O)\n",
    "## 2. 블록체인 기본\n",
    "- 블록 (Block)\n",
    "- 체인 (Chain)\n",
    "- 탈중앙화 (Decentralization)\n",
    "- 합의 알고리즘 (Consensus)\n",
    "- 트랜잭션 (Transaction)"
   ]
  },
  {
   "cell_type": "markdown",
   "id": "cf5e657a",
   "metadata": {},
   "source": [
    "`블록체인은 왜 \"신뢰를 코딩한다\"고 불릴까?`\n",
    "- 세상에서는 보통 사람끼리 거래할 때 은행, 중앙기관, 공중인 같은 \"신뢰할 제3자\"를 세운다.\n",
    "- 블록체인은 수학적 알고리즘과 분산 네트워크만으로 \"진실\"을 증명한다.\n",
    "- 신뢰를 사람이나 기관에 맡기는 것이 아니라 코드와 알고리즘(룰)에 맡기기 때문에 신뢰를 코딩한다고 부른다."
   ]
  },
  {
   "cell_type": "markdown",
   "id": "d2c8230c",
   "metadata": {},
   "source": [
    "`만약 한 명만 블록을 만들 수 있다면, 무슨 문제가 생길까?`\n",
    "- 그 한 사람이 기록을 조작할 수도 있고, 트랜잭션을 마음대로 무시하거나 수정할 수도 있다.\n",
    "- 권력이 집중된 것이며 블록체인이 더 이상 \"분산된 장부\"가 아니게 된다.\n",
    "- 블록을 만들 권한은 분산되어야 한다. 그래서 합의 알고리즘이 존재한다."
   ]
  },
  {
   "cell_type": "markdown",
   "id": "e165d4eb",
   "metadata": {},
   "source": [
    "`PoW와 PoS의 가장 큰 차이점은 무엇인가?`\n",
    "- Proof of Work: 일(연산)을 열심히 한 사람이 블록을 만든다.\n",
    "- Proof of Stake: 많은 지분(Stake)을 가진 사람이 블록을 만든다.\n",
    "- PoW는 연산 노력을, PoS는 지분 소유를 증명해 블록 생성 자격을 얻는 것이 핵심 차이이다."
   ]
  }
 ],
 "metadata": {
  "kernelspec": {
   "display_name": "Python 3",
   "language": "python",
   "name": "python3"
  },
  "language_info": {
   "codemirror_mode": {
    "name": "ipython",
    "version": 3
   },
   "file_extension": ".py",
   "mimetype": "text/x-python",
   "name": "python",
   "nbconvert_exporter": "python",
   "pygments_lexer": "ipython3",
   "version": "3.12.4"
  }
 },
 "nbformat": 4,
 "nbformat_minor": 5
}
